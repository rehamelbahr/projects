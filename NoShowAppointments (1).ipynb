{
  "nbformat": 4,
  "nbformat_minor": 0,
  "metadata": {
    "colab": {
      "name": "NoShowAppointments.ipynb",
      "provenance": [],
      "collapsed_sections": []
    },
    "kernelspec": {
      "name": "python3",
      "display_name": "Python 3"
    },
    "language_info": {
      "name": "python"
    }
  },
  "cells": [
    {
      "cell_type": "markdown",
      "source": [
        "**Questions we are trying to answer:**\n",
        "*   What is the average age of people who showed up?\n",
        "*   What is the percentage of overall people who showed up?\n",
        "\n",
        "* Which factors have positive correlation which have impact on showing to the appointment?  \n",
        "*   Which timeofday has more show?\n",
        "\n",
        "\n",
        "*   Which age group attend more?\n",
        "*   Did sms received impact on the attendance?\n",
        "\n",
        "\n",
        "*   Did Scholarship impact on the attendance?\n",
        "*   Did Hipertension impact on the attendance?\n",
        "\n",
        "*   Did Alcoholism impact on the attendance?\n",
        "*   Did Diabetes impact on the attendance?\n",
        "\n",
        "\n",
        "*   Did Handcap impact on the attendance?\n",
        "*   Did Gender impact on the attendance"
      ],
      "metadata": {
        "id": "Fo87a7QKE3dl"
      }
    },
    {
      "cell_type": "code",
      "execution_count": 1,
      "metadata": {
        "id": "HzSnBoTAWSPQ"
      },
      "outputs": [],
      "source": [
        "#import libaries\n",
        "import pandas as pd\n",
        "import numpy as np\n",
        "import matplotlib.pyplot as plt\n",
        "import seaborn as sns\n",
        "import datetime"
      ]
    },
    {
      "cell_type": "code",
      "source": [
        "#load the dataset\n",
        "df = pd.read_csv('/content/noshowappointments-kagglev2-may-2016.csv')"
      ],
      "metadata": {
        "id": "1-M1el33Wg2m"
      },
      "execution_count": 2,
      "outputs": []
    },
    {
      "cell_type": "markdown",
      "source": [
        "**Data Wrangling**"
      ],
      "metadata": {
        "id": "Sb_ohUOCbok3"
      }
    },
    {
      "cell_type": "code",
      "source": [
        "df.head()"
      ],
      "metadata": {
        "colab": {
          "base_uri": "https://localhost:8080/",
          "height": 374
        },
        "id": "-fF8xWtnWuFE",
        "outputId": "f646e112-070d-475e-fab9-367e165d7177"
      },
      "execution_count": 3,
      "outputs": [
        {
          "output_type": "execute_result",
          "data": {
            "text/html": [
              "\n",
              "  <div id=\"df-78e58a55-f383-43e6-b3f2-7faedb2caaa7\">\n",
              "    <div class=\"colab-df-container\">\n",
              "      <div>\n",
              "<style scoped>\n",
              "    .dataframe tbody tr th:only-of-type {\n",
              "        vertical-align: middle;\n",
              "    }\n",
              "\n",
              "    .dataframe tbody tr th {\n",
              "        vertical-align: top;\n",
              "    }\n",
              "\n",
              "    .dataframe thead th {\n",
              "        text-align: right;\n",
              "    }\n",
              "</style>\n",
              "<table border=\"1\" class=\"dataframe\">\n",
              "  <thead>\n",
              "    <tr style=\"text-align: right;\">\n",
              "      <th></th>\n",
              "      <th>PatientId</th>\n",
              "      <th>AppointmentID</th>\n",
              "      <th>Gender</th>\n",
              "      <th>ScheduledDay</th>\n",
              "      <th>AppointmentDay</th>\n",
              "      <th>Age</th>\n",
              "      <th>Neighbourhood</th>\n",
              "      <th>Scholarship</th>\n",
              "      <th>Hipertension</th>\n",
              "      <th>Diabetes</th>\n",
              "      <th>Alcoholism</th>\n",
              "      <th>Handcap</th>\n",
              "      <th>SMS_received</th>\n",
              "      <th>No-show</th>\n",
              "    </tr>\n",
              "  </thead>\n",
              "  <tbody>\n",
              "    <tr>\n",
              "      <th>0</th>\n",
              "      <td>2.987250e+13</td>\n",
              "      <td>5642903</td>\n",
              "      <td>F</td>\n",
              "      <td>2016-04-29T18:38:08Z</td>\n",
              "      <td>2016-04-29T00:00:00Z</td>\n",
              "      <td>62</td>\n",
              "      <td>JARDIM DA PENHA</td>\n",
              "      <td>0</td>\n",
              "      <td>1</td>\n",
              "      <td>0</td>\n",
              "      <td>0</td>\n",
              "      <td>0</td>\n",
              "      <td>0</td>\n",
              "      <td>No</td>\n",
              "    </tr>\n",
              "    <tr>\n",
              "      <th>1</th>\n",
              "      <td>5.589978e+14</td>\n",
              "      <td>5642503</td>\n",
              "      <td>M</td>\n",
              "      <td>2016-04-29T16:08:27Z</td>\n",
              "      <td>2016-04-29T00:00:00Z</td>\n",
              "      <td>56</td>\n",
              "      <td>JARDIM DA PENHA</td>\n",
              "      <td>0</td>\n",
              "      <td>0</td>\n",
              "      <td>0</td>\n",
              "      <td>0</td>\n",
              "      <td>0</td>\n",
              "      <td>0</td>\n",
              "      <td>No</td>\n",
              "    </tr>\n",
              "    <tr>\n",
              "      <th>2</th>\n",
              "      <td>4.262962e+12</td>\n",
              "      <td>5642549</td>\n",
              "      <td>F</td>\n",
              "      <td>2016-04-29T16:19:04Z</td>\n",
              "      <td>2016-04-29T00:00:00Z</td>\n",
              "      <td>62</td>\n",
              "      <td>MATA DA PRAIA</td>\n",
              "      <td>0</td>\n",
              "      <td>0</td>\n",
              "      <td>0</td>\n",
              "      <td>0</td>\n",
              "      <td>0</td>\n",
              "      <td>0</td>\n",
              "      <td>No</td>\n",
              "    </tr>\n",
              "    <tr>\n",
              "      <th>3</th>\n",
              "      <td>8.679512e+11</td>\n",
              "      <td>5642828</td>\n",
              "      <td>F</td>\n",
              "      <td>2016-04-29T17:29:31Z</td>\n",
              "      <td>2016-04-29T00:00:00Z</td>\n",
              "      <td>8</td>\n",
              "      <td>PONTAL DE CAMBURI</td>\n",
              "      <td>0</td>\n",
              "      <td>0</td>\n",
              "      <td>0</td>\n",
              "      <td>0</td>\n",
              "      <td>0</td>\n",
              "      <td>0</td>\n",
              "      <td>No</td>\n",
              "    </tr>\n",
              "    <tr>\n",
              "      <th>4</th>\n",
              "      <td>8.841186e+12</td>\n",
              "      <td>5642494</td>\n",
              "      <td>F</td>\n",
              "      <td>2016-04-29T16:07:23Z</td>\n",
              "      <td>2016-04-29T00:00:00Z</td>\n",
              "      <td>56</td>\n",
              "      <td>JARDIM DA PENHA</td>\n",
              "      <td>0</td>\n",
              "      <td>1</td>\n",
              "      <td>1</td>\n",
              "      <td>0</td>\n",
              "      <td>0</td>\n",
              "      <td>0</td>\n",
              "      <td>No</td>\n",
              "    </tr>\n",
              "  </tbody>\n",
              "</table>\n",
              "</div>\n",
              "      <button class=\"colab-df-convert\" onclick=\"convertToInteractive('df-78e58a55-f383-43e6-b3f2-7faedb2caaa7')\"\n",
              "              title=\"Convert this dataframe to an interactive table.\"\n",
              "              style=\"display:none;\">\n",
              "        \n",
              "  <svg xmlns=\"http://www.w3.org/2000/svg\" height=\"24px\"viewBox=\"0 0 24 24\"\n",
              "       width=\"24px\">\n",
              "    <path d=\"M0 0h24v24H0V0z\" fill=\"none\"/>\n",
              "    <path d=\"M18.56 5.44l.94 2.06.94-2.06 2.06-.94-2.06-.94-.94-2.06-.94 2.06-2.06.94zm-11 1L8.5 8.5l.94-2.06 2.06-.94-2.06-.94L8.5 2.5l-.94 2.06-2.06.94zm10 10l.94 2.06.94-2.06 2.06-.94-2.06-.94-.94-2.06-.94 2.06-2.06.94z\"/><path d=\"M17.41 7.96l-1.37-1.37c-.4-.4-.92-.59-1.43-.59-.52 0-1.04.2-1.43.59L10.3 9.45l-7.72 7.72c-.78.78-.78 2.05 0 2.83L4 21.41c.39.39.9.59 1.41.59.51 0 1.02-.2 1.41-.59l7.78-7.78 2.81-2.81c.8-.78.8-2.07 0-2.86zM5.41 20L4 18.59l7.72-7.72 1.47 1.35L5.41 20z\"/>\n",
              "  </svg>\n",
              "      </button>\n",
              "      \n",
              "  <style>\n",
              "    .colab-df-container {\n",
              "      display:flex;\n",
              "      flex-wrap:wrap;\n",
              "      gap: 12px;\n",
              "    }\n",
              "\n",
              "    .colab-df-convert {\n",
              "      background-color: #E8F0FE;\n",
              "      border: none;\n",
              "      border-radius: 50%;\n",
              "      cursor: pointer;\n",
              "      display: none;\n",
              "      fill: #1967D2;\n",
              "      height: 32px;\n",
              "      padding: 0 0 0 0;\n",
              "      width: 32px;\n",
              "    }\n",
              "\n",
              "    .colab-df-convert:hover {\n",
              "      background-color: #E2EBFA;\n",
              "      box-shadow: 0px 1px 2px rgba(60, 64, 67, 0.3), 0px 1px 3px 1px rgba(60, 64, 67, 0.15);\n",
              "      fill: #174EA6;\n",
              "    }\n",
              "\n",
              "    [theme=dark] .colab-df-convert {\n",
              "      background-color: #3B4455;\n",
              "      fill: #D2E3FC;\n",
              "    }\n",
              "\n",
              "    [theme=dark] .colab-df-convert:hover {\n",
              "      background-color: #434B5C;\n",
              "      box-shadow: 0px 1px 3px 1px rgba(0, 0, 0, 0.15);\n",
              "      filter: drop-shadow(0px 1px 2px rgba(0, 0, 0, 0.3));\n",
              "      fill: #FFFFFF;\n",
              "    }\n",
              "  </style>\n",
              "\n",
              "      <script>\n",
              "        const buttonEl =\n",
              "          document.querySelector('#df-78e58a55-f383-43e6-b3f2-7faedb2caaa7 button.colab-df-convert');\n",
              "        buttonEl.style.display =\n",
              "          google.colab.kernel.accessAllowed ? 'block' : 'none';\n",
              "\n",
              "        async function convertToInteractive(key) {\n",
              "          const element = document.querySelector('#df-78e58a55-f383-43e6-b3f2-7faedb2caaa7');\n",
              "          const dataTable =\n",
              "            await google.colab.kernel.invokeFunction('convertToInteractive',\n",
              "                                                     [key], {});\n",
              "          if (!dataTable) return;\n",
              "\n",
              "          const docLinkHtml = 'Like what you see? Visit the ' +\n",
              "            '<a target=\"_blank\" href=https://colab.research.google.com/notebooks/data_table.ipynb>data table notebook</a>'\n",
              "            + ' to learn more about interactive tables.';\n",
              "          element.innerHTML = '';\n",
              "          dataTable['output_type'] = 'display_data';\n",
              "          await google.colab.output.renderOutput(dataTable, element);\n",
              "          const docLink = document.createElement('div');\n",
              "          docLink.innerHTML = docLinkHtml;\n",
              "          element.appendChild(docLink);\n",
              "        }\n",
              "      </script>\n",
              "    </div>\n",
              "  </div>\n",
              "  "
            ],
            "text/plain": [
              "      PatientId  AppointmentID Gender  ... Handcap SMS_received  No-show\n",
              "0  2.987250e+13        5642903      F  ...       0            0       No\n",
              "1  5.589978e+14        5642503      M  ...       0            0       No\n",
              "2  4.262962e+12        5642549      F  ...       0            0       No\n",
              "3  8.679512e+11        5642828      F  ...       0            0       No\n",
              "4  8.841186e+12        5642494      F  ...       0            0       No\n",
              "\n",
              "[5 rows x 14 columns]"
            ]
          },
          "metadata": {},
          "execution_count": 3
        }
      ]
    },
    {
      "cell_type": "code",
      "source": [
        "df.dtypes"
      ],
      "metadata": {
        "colab": {
          "base_uri": "https://localhost:8080/"
        },
        "id": "4hR1T_naWwcS",
        "outputId": "2c4549d1-82a1-466f-e031-c9692dd7a728"
      },
      "execution_count": 4,
      "outputs": [
        {
          "output_type": "execute_result",
          "data": {
            "text/plain": [
              "PatientId         float64\n",
              "AppointmentID       int64\n",
              "Gender             object\n",
              "ScheduledDay       object\n",
              "AppointmentDay     object\n",
              "Age                 int64\n",
              "Neighbourhood      object\n",
              "Scholarship         int64\n",
              "Hipertension        int64\n",
              "Diabetes            int64\n",
              "Alcoholism          int64\n",
              "Handcap             int64\n",
              "SMS_received        int64\n",
              "No-show            object\n",
              "dtype: object"
            ]
          },
          "metadata": {},
          "execution_count": 4
        }
      ]
    },
    {
      "cell_type": "code",
      "source": [
        "#edit columns name to  lower first letter\n",
        "df.columns = df.columns.str.lower().str.strip().str.replace('-','_')"
      ],
      "metadata": {
        "id": "HSh-y69TWzvt"
      },
      "execution_count": 5,
      "outputs": []
    },
    {
      "cell_type": "code",
      "source": [
        "df['patientid'] = df['patientid'].astype(int)"
      ],
      "metadata": {
        "id": "07ZxZAYhW23j"
      },
      "execution_count": 6,
      "outputs": []
    },
    {
      "cell_type": "code",
      "source": [
        "#edit the no show column to be adjusted to yes = 0 and No = 1 \n",
        "df['no_show'] = pd.Series(map(lambda x: dict(Yes=0, No=1)[x],\n",
        "              df['no_show'].values.tolist()), df['no_show'].index)"
      ],
      "metadata": {
        "id": "a0eGkAp9W4vI"
      },
      "execution_count": 7,
      "outputs": []
    },
    {
      "cell_type": "code",
      "source": [
        "#check for Null Values\n",
        "df.isnull().sum()"
      ],
      "metadata": {
        "colab": {
          "base_uri": "https://localhost:8080/"
        },
        "id": "a40GjJpiW63M",
        "outputId": "243a7405-c302-400d-d787-5d01de5205db"
      },
      "execution_count": 8,
      "outputs": [
        {
          "output_type": "execute_result",
          "data": {
            "text/plain": [
              "patientid         0\n",
              "appointmentid     0\n",
              "gender            0\n",
              "scheduledday      0\n",
              "appointmentday    0\n",
              "age               0\n",
              "neighbourhood     0\n",
              "scholarship       0\n",
              "hipertension      0\n",
              "diabetes          0\n",
              "alcoholism        0\n",
              "handcap           0\n",
              "sms_received      0\n",
              "no_show           0\n",
              "dtype: int64"
            ]
          },
          "metadata": {},
          "execution_count": 8
        }
      ]
    },
    {
      "cell_type": "code",
      "source": [
        "#check for duplicated rows\n",
        "df.duplicated().sum()"
      ],
      "metadata": {
        "colab": {
          "base_uri": "https://localhost:8080/"
        },
        "id": "n-GIU8NsW8xU",
        "outputId": "3d4a1842-2e69-4743-9602-5fc86273507d"
      },
      "execution_count": 9,
      "outputs": [
        {
          "output_type": "execute_result",
          "data": {
            "text/plain": [
              "0"
            ]
          },
          "metadata": {},
          "execution_count": 9
        }
      ]
    },
    {
      "cell_type": "code",
      "source": [
        "#ajust the datatime \n",
        "df['scheduledday']= pd.to_datetime(df['scheduledday']).dt.tz_localize(None)\n",
        "df['scheduledday']"
      ],
      "metadata": {
        "colab": {
          "base_uri": "https://localhost:8080/"
        },
        "id": "9zzMqQpBW-or",
        "outputId": "f14c3cbd-8a0a-42e1-c54f-190128d32e06"
      },
      "execution_count": 10,
      "outputs": [
        {
          "output_type": "execute_result",
          "data": {
            "text/plain": [
              "0        2016-04-29 18:38:08\n",
              "1        2016-04-29 16:08:27\n",
              "2        2016-04-29 16:19:04\n",
              "3        2016-04-29 17:29:31\n",
              "4        2016-04-29 16:07:23\n",
              "                 ...        \n",
              "110522   2016-05-03 09:15:35\n",
              "110523   2016-05-03 07:27:33\n",
              "110524   2016-04-27 16:03:52\n",
              "110525   2016-04-27 15:09:23\n",
              "110526   2016-04-27 13:30:56\n",
              "Name: scheduledday, Length: 110527, dtype: datetime64[ns]"
            ]
          },
          "metadata": {},
          "execution_count": 10
        }
      ]
    },
    {
      "cell_type": "code",
      "source": [
        "df['appointmentday']= pd.to_datetime(df['appointmentday']).dt.tz_localize(None)\n",
        "df['appointmentday']"
      ],
      "metadata": {
        "colab": {
          "base_uri": "https://localhost:8080/"
        },
        "id": "hYMthnINXEw7",
        "outputId": "5789ef40-9803-4840-8e76-5241dd02e168"
      },
      "execution_count": 11,
      "outputs": [
        {
          "output_type": "execute_result",
          "data": {
            "text/plain": [
              "0        2016-04-29\n",
              "1        2016-04-29\n",
              "2        2016-04-29\n",
              "3        2016-04-29\n",
              "4        2016-04-29\n",
              "            ...    \n",
              "110522   2016-06-07\n",
              "110523   2016-06-07\n",
              "110524   2016-06-07\n",
              "110525   2016-06-07\n",
              "110526   2016-06-07\n",
              "Name: appointmentday, Length: 110527, dtype: datetime64[ns]"
            ]
          },
          "metadata": {},
          "execution_count": 11
        }
      ]
    },
    {
      "cell_type": "code",
      "source": [
        "df.head()"
      ],
      "metadata": {
        "colab": {
          "base_uri": "https://localhost:8080/",
          "height": 357
        },
        "id": "i6Vp_QX3XII8",
        "outputId": "70320197-b174-485d-987b-1408eb0db398"
      },
      "execution_count": 12,
      "outputs": [
        {
          "output_type": "execute_result",
          "data": {
            "text/html": [
              "\n",
              "  <div id=\"df-e7a00609-062c-446d-846c-cd0d5953a0b5\">\n",
              "    <div class=\"colab-df-container\">\n",
              "      <div>\n",
              "<style scoped>\n",
              "    .dataframe tbody tr th:only-of-type {\n",
              "        vertical-align: middle;\n",
              "    }\n",
              "\n",
              "    .dataframe tbody tr th {\n",
              "        vertical-align: top;\n",
              "    }\n",
              "\n",
              "    .dataframe thead th {\n",
              "        text-align: right;\n",
              "    }\n",
              "</style>\n",
              "<table border=\"1\" class=\"dataframe\">\n",
              "  <thead>\n",
              "    <tr style=\"text-align: right;\">\n",
              "      <th></th>\n",
              "      <th>patientid</th>\n",
              "      <th>appointmentid</th>\n",
              "      <th>gender</th>\n",
              "      <th>scheduledday</th>\n",
              "      <th>appointmentday</th>\n",
              "      <th>age</th>\n",
              "      <th>neighbourhood</th>\n",
              "      <th>scholarship</th>\n",
              "      <th>hipertension</th>\n",
              "      <th>diabetes</th>\n",
              "      <th>alcoholism</th>\n",
              "      <th>handcap</th>\n",
              "      <th>sms_received</th>\n",
              "      <th>no_show</th>\n",
              "    </tr>\n",
              "  </thead>\n",
              "  <tbody>\n",
              "    <tr>\n",
              "      <th>0</th>\n",
              "      <td>29872499824296</td>\n",
              "      <td>5642903</td>\n",
              "      <td>F</td>\n",
              "      <td>2016-04-29 18:38:08</td>\n",
              "      <td>2016-04-29</td>\n",
              "      <td>62</td>\n",
              "      <td>JARDIM DA PENHA</td>\n",
              "      <td>0</td>\n",
              "      <td>1</td>\n",
              "      <td>0</td>\n",
              "      <td>0</td>\n",
              "      <td>0</td>\n",
              "      <td>0</td>\n",
              "      <td>1</td>\n",
              "    </tr>\n",
              "    <tr>\n",
              "      <th>1</th>\n",
              "      <td>558997776694438</td>\n",
              "      <td>5642503</td>\n",
              "      <td>M</td>\n",
              "      <td>2016-04-29 16:08:27</td>\n",
              "      <td>2016-04-29</td>\n",
              "      <td>56</td>\n",
              "      <td>JARDIM DA PENHA</td>\n",
              "      <td>0</td>\n",
              "      <td>0</td>\n",
              "      <td>0</td>\n",
              "      <td>0</td>\n",
              "      <td>0</td>\n",
              "      <td>0</td>\n",
              "      <td>1</td>\n",
              "    </tr>\n",
              "    <tr>\n",
              "      <th>2</th>\n",
              "      <td>4262962299951</td>\n",
              "      <td>5642549</td>\n",
              "      <td>F</td>\n",
              "      <td>2016-04-29 16:19:04</td>\n",
              "      <td>2016-04-29</td>\n",
              "      <td>62</td>\n",
              "      <td>MATA DA PRAIA</td>\n",
              "      <td>0</td>\n",
              "      <td>0</td>\n",
              "      <td>0</td>\n",
              "      <td>0</td>\n",
              "      <td>0</td>\n",
              "      <td>0</td>\n",
              "      <td>1</td>\n",
              "    </tr>\n",
              "    <tr>\n",
              "      <th>3</th>\n",
              "      <td>867951213174</td>\n",
              "      <td>5642828</td>\n",
              "      <td>F</td>\n",
              "      <td>2016-04-29 17:29:31</td>\n",
              "      <td>2016-04-29</td>\n",
              "      <td>8</td>\n",
              "      <td>PONTAL DE CAMBURI</td>\n",
              "      <td>0</td>\n",
              "      <td>0</td>\n",
              "      <td>0</td>\n",
              "      <td>0</td>\n",
              "      <td>0</td>\n",
              "      <td>0</td>\n",
              "      <td>1</td>\n",
              "    </tr>\n",
              "    <tr>\n",
              "      <th>4</th>\n",
              "      <td>8841186448183</td>\n",
              "      <td>5642494</td>\n",
              "      <td>F</td>\n",
              "      <td>2016-04-29 16:07:23</td>\n",
              "      <td>2016-04-29</td>\n",
              "      <td>56</td>\n",
              "      <td>JARDIM DA PENHA</td>\n",
              "      <td>0</td>\n",
              "      <td>1</td>\n",
              "      <td>1</td>\n",
              "      <td>0</td>\n",
              "      <td>0</td>\n",
              "      <td>0</td>\n",
              "      <td>1</td>\n",
              "    </tr>\n",
              "  </tbody>\n",
              "</table>\n",
              "</div>\n",
              "      <button class=\"colab-df-convert\" onclick=\"convertToInteractive('df-e7a00609-062c-446d-846c-cd0d5953a0b5')\"\n",
              "              title=\"Convert this dataframe to an interactive table.\"\n",
              "              style=\"display:none;\">\n",
              "        \n",
              "  <svg xmlns=\"http://www.w3.org/2000/svg\" height=\"24px\"viewBox=\"0 0 24 24\"\n",
              "       width=\"24px\">\n",
              "    <path d=\"M0 0h24v24H0V0z\" fill=\"none\"/>\n",
              "    <path d=\"M18.56 5.44l.94 2.06.94-2.06 2.06-.94-2.06-.94-.94-2.06-.94 2.06-2.06.94zm-11 1L8.5 8.5l.94-2.06 2.06-.94-2.06-.94L8.5 2.5l-.94 2.06-2.06.94zm10 10l.94 2.06.94-2.06 2.06-.94-2.06-.94-.94-2.06-.94 2.06-2.06.94z\"/><path d=\"M17.41 7.96l-1.37-1.37c-.4-.4-.92-.59-1.43-.59-.52 0-1.04.2-1.43.59L10.3 9.45l-7.72 7.72c-.78.78-.78 2.05 0 2.83L4 21.41c.39.39.9.59 1.41.59.51 0 1.02-.2 1.41-.59l7.78-7.78 2.81-2.81c.8-.78.8-2.07 0-2.86zM5.41 20L4 18.59l7.72-7.72 1.47 1.35L5.41 20z\"/>\n",
              "  </svg>\n",
              "      </button>\n",
              "      \n",
              "  <style>\n",
              "    .colab-df-container {\n",
              "      display:flex;\n",
              "      flex-wrap:wrap;\n",
              "      gap: 12px;\n",
              "    }\n",
              "\n",
              "    .colab-df-convert {\n",
              "      background-color: #E8F0FE;\n",
              "      border: none;\n",
              "      border-radius: 50%;\n",
              "      cursor: pointer;\n",
              "      display: none;\n",
              "      fill: #1967D2;\n",
              "      height: 32px;\n",
              "      padding: 0 0 0 0;\n",
              "      width: 32px;\n",
              "    }\n",
              "\n",
              "    .colab-df-convert:hover {\n",
              "      background-color: #E2EBFA;\n",
              "      box-shadow: 0px 1px 2px rgba(60, 64, 67, 0.3), 0px 1px 3px 1px rgba(60, 64, 67, 0.15);\n",
              "      fill: #174EA6;\n",
              "    }\n",
              "\n",
              "    [theme=dark] .colab-df-convert {\n",
              "      background-color: #3B4455;\n",
              "      fill: #D2E3FC;\n",
              "    }\n",
              "\n",
              "    [theme=dark] .colab-df-convert:hover {\n",
              "      background-color: #434B5C;\n",
              "      box-shadow: 0px 1px 3px 1px rgba(0, 0, 0, 0.15);\n",
              "      filter: drop-shadow(0px 1px 2px rgba(0, 0, 0, 0.3));\n",
              "      fill: #FFFFFF;\n",
              "    }\n",
              "  </style>\n",
              "\n",
              "      <script>\n",
              "        const buttonEl =\n",
              "          document.querySelector('#df-e7a00609-062c-446d-846c-cd0d5953a0b5 button.colab-df-convert');\n",
              "        buttonEl.style.display =\n",
              "          google.colab.kernel.accessAllowed ? 'block' : 'none';\n",
              "\n",
              "        async function convertToInteractive(key) {\n",
              "          const element = document.querySelector('#df-e7a00609-062c-446d-846c-cd0d5953a0b5');\n",
              "          const dataTable =\n",
              "            await google.colab.kernel.invokeFunction('convertToInteractive',\n",
              "                                                     [key], {});\n",
              "          if (!dataTable) return;\n",
              "\n",
              "          const docLinkHtml = 'Like what you see? Visit the ' +\n",
              "            '<a target=\"_blank\" href=https://colab.research.google.com/notebooks/data_table.ipynb>data table notebook</a>'\n",
              "            + ' to learn more about interactive tables.';\n",
              "          element.innerHTML = '';\n",
              "          dataTable['output_type'] = 'display_data';\n",
              "          await google.colab.output.renderOutput(dataTable, element);\n",
              "          const docLink = document.createElement('div');\n",
              "          docLink.innerHTML = docLinkHtml;\n",
              "          element.appendChild(docLink);\n",
              "        }\n",
              "      </script>\n",
              "    </div>\n",
              "  </div>\n",
              "  "
            ],
            "text/plain": [
              "         patientid  appointmentid gender  ... handcap sms_received  no_show\n",
              "0   29872499824296        5642903      F  ...       0            0        1\n",
              "1  558997776694438        5642503      M  ...       0            0        1\n",
              "2    4262962299951        5642549      F  ...       0            0        1\n",
              "3     867951213174        5642828      F  ...       0            0        1\n",
              "4    8841186448183        5642494      F  ...       0            0        1\n",
              "\n",
              "[5 rows x 14 columns]"
            ]
          },
          "metadata": {},
          "execution_count": 12
        }
      ]
    },
    {
      "cell_type": "code",
      "source": [
        "df.info()"
      ],
      "metadata": {
        "colab": {
          "base_uri": "https://localhost:8080/"
        },
        "id": "PCspiDgvXLkW",
        "outputId": "f3948a31-88e0-45ad-ddfa-d46d646314db"
      },
      "execution_count": 13,
      "outputs": [
        {
          "output_type": "stream",
          "name": "stdout",
          "text": [
            "<class 'pandas.core.frame.DataFrame'>\n",
            "RangeIndex: 110527 entries, 0 to 110526\n",
            "Data columns (total 14 columns):\n",
            " #   Column          Non-Null Count   Dtype         \n",
            "---  ------          --------------   -----         \n",
            " 0   patientid       110527 non-null  int64         \n",
            " 1   appointmentid   110527 non-null  int64         \n",
            " 2   gender          110527 non-null  object        \n",
            " 3   scheduledday    110527 non-null  datetime64[ns]\n",
            " 4   appointmentday  110527 non-null  datetime64[ns]\n",
            " 5   age             110527 non-null  int64         \n",
            " 6   neighbourhood   110527 non-null  object        \n",
            " 7   scholarship     110527 non-null  int64         \n",
            " 8   hipertension    110527 non-null  int64         \n",
            " 9   diabetes        110527 non-null  int64         \n",
            " 10  alcoholism      110527 non-null  int64         \n",
            " 11  handcap         110527 non-null  int64         \n",
            " 12  sms_received    110527 non-null  int64         \n",
            " 13  no_show         110527 non-null  int64         \n",
            "dtypes: datetime64[ns](2), int64(10), object(2)\n",
            "memory usage: 11.8+ MB\n"
          ]
        }
      ]
    },
    {
      "cell_type": "code",
      "source": [
        "#overall unique possible columns\n",
        "for column in df.iloc[:,np.r_[2,5:14]].columns:\n",
        "    print(\"{}:\\n{}\".format(column,df[column].unique()))"
      ],
      "metadata": {
        "colab": {
          "base_uri": "https://localhost:8080/"
        },
        "id": "SY1tpVSuXN4P",
        "outputId": "df36bd8d-e7b4-423d-a135-72074a3e7418"
      },
      "execution_count": 14,
      "outputs": [
        {
          "output_type": "stream",
          "name": "stdout",
          "text": [
            "gender:\n",
            "['F' 'M']\n",
            "age:\n",
            "[ 62  56   8  76  23  39  21  19  30  29  22  28  54  15  50  40  46   4\n",
            "  13  65  45  51  32  12  61  38  79  18  63  64  85  59  55  71  49  78\n",
            "  31  58  27   6   2  11   7   0   3   1  69  68  60  67  36  10  35  20\n",
            "  26  34  33  16  42   5  47  17  41  44  37  24  66  77  81  70  53  75\n",
            "  73  52  74  43  89  57  14   9  48  83  72  25  80  87  88  84  82  90\n",
            "  94  86  91  98  92  96  93  95  97 102 115 100  99  -1]\n",
            "neighbourhood:\n",
            "['JARDIM DA PENHA' 'MATA DA PRAIA' 'PONTAL DE CAMBURI' 'REPÚBLICA'\n",
            " 'GOIABEIRAS' 'ANDORINHAS' 'CONQUISTA' 'NOVA PALESTINA' 'DA PENHA'\n",
            " 'TABUAZEIRO' 'BENTO FERREIRA' 'SÃO PEDRO' 'SANTA MARTHA' 'SÃO CRISTÓVÃO'\n",
            " 'MARUÍPE' 'GRANDE VITÓRIA' 'SÃO BENEDITO' 'ILHA DAS CAIEIRAS'\n",
            " 'SANTO ANDRÉ' 'SOLON BORGES' 'BONFIM' 'JARDIM CAMBURI' 'MARIA ORTIZ'\n",
            " 'JABOUR' 'ANTÔNIO HONÓRIO' 'RESISTÊNCIA' 'ILHA DE SANTA MARIA'\n",
            " 'JUCUTUQUARA' 'MONTE BELO' 'MÁRIO CYPRESTE' 'SANTO ANTÔNIO' 'BELA VISTA'\n",
            " 'PRAIA DO SUÁ' 'SANTA HELENA' 'ITARARÉ' 'INHANGUETÁ' 'UNIVERSITÁRIO'\n",
            " 'SÃO JOSÉ' 'REDENÇÃO' 'SANTA CLARA' 'CENTRO' 'PARQUE MOSCOSO'\n",
            " 'DO MOSCOSO' 'SANTOS DUMONT' 'CARATOÍRA' 'ARIOVALDO FAVALESSA'\n",
            " 'ILHA DO FRADE' 'GURIGICA' 'JOANA D´ARC' 'CONSOLAÇÃO' 'PRAIA DO CANTO'\n",
            " 'BOA VISTA' 'MORADA DE CAMBURI' 'SANTA LUÍZA' 'SANTA LÚCIA'\n",
            " 'BARRO VERMELHO' 'ESTRELINHA' 'FORTE SÃO JOÃO' 'FONTE GRANDE'\n",
            " 'ENSEADA DO SUÁ' 'SANTOS REIS' 'PIEDADE' 'JESUS DE NAZARETH'\n",
            " 'SANTA TEREZA' 'CRUZAMENTO' 'ILHA DO PRÍNCIPE' 'ROMÃO' 'COMDUSA'\n",
            " 'SANTA CECÍLIA' 'VILA RUBIM' 'DE LOURDES' 'DO QUADRO' 'DO CABRAL' 'HORTO'\n",
            " 'SEGURANÇA DO LAR' 'ILHA DO BOI' 'FRADINHOS' 'NAZARETH' 'AEROPORTO'\n",
            " 'ILHAS OCEÂNICAS DE TRINDADE' 'PARQUE INDUSTRIAL']\n",
            "scholarship:\n",
            "[0 1]\n",
            "hipertension:\n",
            "[1 0]\n",
            "diabetes:\n",
            "[0 1]\n",
            "alcoholism:\n",
            "[0 1]\n",
            "handcap:\n",
            "[0 1 2 3 4]\n",
            "sms_received:\n",
            "[0 1]\n",
            "no_show:\n",
            "[1 0]\n"
          ]
        }
      ]
    },
    {
      "cell_type": "code",
      "source": [
        "#remove irrelavant elements in age \n",
        "df.drop(index = df[df.age == -1].index, inplace = True)"
      ],
      "metadata": {
        "id": "DFsSnjO_XQQy"
      },
      "execution_count": 15,
      "outputs": []
    },
    {
      "cell_type": "code",
      "source": [
        "#check again overall unique possible columns\n",
        "for column in df.iloc[:,np.r_[2,5:14]].columns:\n",
        "    print(\"{}:\\n{}\".format(column,df[column].unique()))"
      ],
      "metadata": {
        "colab": {
          "base_uri": "https://localhost:8080/"
        },
        "id": "DTRKwOiFXaVr",
        "outputId": "fcba3484-f158-41f3-cc94-100f6e49d0f3"
      },
      "execution_count": 16,
      "outputs": [
        {
          "output_type": "stream",
          "name": "stdout",
          "text": [
            "gender:\n",
            "['F' 'M']\n",
            "age:\n",
            "[ 62  56   8  76  23  39  21  19  30  29  22  28  54  15  50  40  46   4\n",
            "  13  65  45  51  32  12  61  38  79  18  63  64  85  59  55  71  49  78\n",
            "  31  58  27   6   2  11   7   0   3   1  69  68  60  67  36  10  35  20\n",
            "  26  34  33  16  42   5  47  17  41  44  37  24  66  77  81  70  53  75\n",
            "  73  52  74  43  89  57  14   9  48  83  72  25  80  87  88  84  82  90\n",
            "  94  86  91  98  92  96  93  95  97 102 115 100  99]\n",
            "neighbourhood:\n",
            "['JARDIM DA PENHA' 'MATA DA PRAIA' 'PONTAL DE CAMBURI' 'REPÚBLICA'\n",
            " 'GOIABEIRAS' 'ANDORINHAS' 'CONQUISTA' 'NOVA PALESTINA' 'DA PENHA'\n",
            " 'TABUAZEIRO' 'BENTO FERREIRA' 'SÃO PEDRO' 'SANTA MARTHA' 'SÃO CRISTÓVÃO'\n",
            " 'MARUÍPE' 'GRANDE VITÓRIA' 'SÃO BENEDITO' 'ILHA DAS CAIEIRAS'\n",
            " 'SANTO ANDRÉ' 'SOLON BORGES' 'BONFIM' 'JARDIM CAMBURI' 'MARIA ORTIZ'\n",
            " 'JABOUR' 'ANTÔNIO HONÓRIO' 'RESISTÊNCIA' 'ILHA DE SANTA MARIA'\n",
            " 'JUCUTUQUARA' 'MONTE BELO' 'MÁRIO CYPRESTE' 'SANTO ANTÔNIO' 'BELA VISTA'\n",
            " 'PRAIA DO SUÁ' 'SANTA HELENA' 'ITARARÉ' 'INHANGUETÁ' 'UNIVERSITÁRIO'\n",
            " 'SÃO JOSÉ' 'REDENÇÃO' 'SANTA CLARA' 'CENTRO' 'PARQUE MOSCOSO'\n",
            " 'DO MOSCOSO' 'SANTOS DUMONT' 'CARATOÍRA' 'ARIOVALDO FAVALESSA'\n",
            " 'ILHA DO FRADE' 'GURIGICA' 'JOANA D´ARC' 'CONSOLAÇÃO' 'PRAIA DO CANTO'\n",
            " 'BOA VISTA' 'MORADA DE CAMBURI' 'SANTA LUÍZA' 'SANTA LÚCIA'\n",
            " 'BARRO VERMELHO' 'ESTRELINHA' 'FORTE SÃO JOÃO' 'FONTE GRANDE'\n",
            " 'ENSEADA DO SUÁ' 'SANTOS REIS' 'PIEDADE' 'JESUS DE NAZARETH'\n",
            " 'SANTA TEREZA' 'CRUZAMENTO' 'ILHA DO PRÍNCIPE' 'ROMÃO' 'COMDUSA'\n",
            " 'SANTA CECÍLIA' 'VILA RUBIM' 'DE LOURDES' 'DO QUADRO' 'DO CABRAL' 'HORTO'\n",
            " 'SEGURANÇA DO LAR' 'ILHA DO BOI' 'FRADINHOS' 'NAZARETH' 'AEROPORTO'\n",
            " 'ILHAS OCEÂNICAS DE TRINDADE' 'PARQUE INDUSTRIAL']\n",
            "scholarship:\n",
            "[0 1]\n",
            "hipertension:\n",
            "[1 0]\n",
            "diabetes:\n",
            "[0 1]\n",
            "alcoholism:\n",
            "[0 1]\n",
            "handcap:\n",
            "[0 1 2 3 4]\n",
            "sms_received:\n",
            "[0 1]\n",
            "no_show:\n",
            "[1 0]\n"
          ]
        }
      ]
    },
    {
      "cell_type": "code",
      "source": [
        "df.info()"
      ],
      "metadata": {
        "colab": {
          "base_uri": "https://localhost:8080/"
        },
        "id": "iWc1ZCPzXedU",
        "outputId": "5f164631-2524-4c94-d8c1-7945e793a87f"
      },
      "execution_count": 17,
      "outputs": [
        {
          "output_type": "stream",
          "name": "stdout",
          "text": [
            "<class 'pandas.core.frame.DataFrame'>\n",
            "Int64Index: 110526 entries, 0 to 110526\n",
            "Data columns (total 14 columns):\n",
            " #   Column          Non-Null Count   Dtype         \n",
            "---  ------          --------------   -----         \n",
            " 0   patientid       110526 non-null  int64         \n",
            " 1   appointmentid   110526 non-null  int64         \n",
            " 2   gender          110526 non-null  object        \n",
            " 3   scheduledday    110526 non-null  datetime64[ns]\n",
            " 4   appointmentday  110526 non-null  datetime64[ns]\n",
            " 5   age             110526 non-null  int64         \n",
            " 6   neighbourhood   110526 non-null  object        \n",
            " 7   scholarship     110526 non-null  int64         \n",
            " 8   hipertension    110526 non-null  int64         \n",
            " 9   diabetes        110526 non-null  int64         \n",
            " 10  alcoholism      110526 non-null  int64         \n",
            " 11  handcap         110526 non-null  int64         \n",
            " 12  sms_received    110526 non-null  int64         \n",
            " 13  no_show         110526 non-null  int64         \n",
            "dtypes: datetime64[ns](2), int64(10), object(2)\n",
            "memory usage: 12.6+ MB\n"
          ]
        }
      ]
    },
    {
      "cell_type": "code",
      "source": [
        "#make age classification for the age\n",
        "def agegroup (ageIntervals):\n",
        "  if ageIntervals < 17 :\n",
        "    return 'Child (0-16)'\n",
        "  if ageIntervals < 30:\n",
        "    return 'Young Adult (17-30)'\n",
        "  if ageIntervals < 45:\n",
        "    return 'Middle-age Adults (31-45)'\n",
        "  else:\n",
        "    return 'Old-age Adults (above 45)'\n",
        "\n",
        "df['age_group'] = df.age.apply(agegroup)"
      ],
      "metadata": {
        "id": "Y3UsS1kyXgsE"
      },
      "execution_count": 99,
      "outputs": []
    },
    {
      "cell_type": "code",
      "source": [
        "#make a function for the periods of the day\n",
        "def hourtime (currentTime):\n",
        "  currentTime = int(currentTime.hour)\n",
        "  if currentTime < 12:\n",
        "    return 'morning'\n",
        "  if currentTime > 12:\n",
        "    return 'afternoon'\n",
        "  if currentTime > 6:\n",
        "    return 'evening'\n",
        "\n",
        "df['timeofday'] = df.scheduledday.apply(hourtime)"
      ],
      "metadata": {
        "id": "58YMF3jzXsyj"
      },
      "execution_count": 19,
      "outputs": []
    },
    {
      "cell_type": "code",
      "source": [
        "#rename the no show to be show\n",
        "new_labels = list(df.columns)\n",
        "new_labels[13] = 'show'\n",
        "df.columns = new_labels"
      ],
      "metadata": {
        "id": "0WOefl1AXxqz"
      },
      "execution_count": 20,
      "outputs": []
    },
    {
      "cell_type": "code",
      "source": [
        "df.head()"
      ],
      "metadata": {
        "colab": {
          "base_uri": "https://localhost:8080/",
          "height": 426
        },
        "id": "tH8wDgJJX4nb",
        "outputId": "42986514-ee74-481c-8b09-8fa095414b54"
      },
      "execution_count": 21,
      "outputs": [
        {
          "output_type": "execute_result",
          "data": {
            "text/html": [
              "\n",
              "  <div id=\"df-7dc83dad-3428-4f32-b1a3-de34f1f7b885\">\n",
              "    <div class=\"colab-df-container\">\n",
              "      <div>\n",
              "<style scoped>\n",
              "    .dataframe tbody tr th:only-of-type {\n",
              "        vertical-align: middle;\n",
              "    }\n",
              "\n",
              "    .dataframe tbody tr th {\n",
              "        vertical-align: top;\n",
              "    }\n",
              "\n",
              "    .dataframe thead th {\n",
              "        text-align: right;\n",
              "    }\n",
              "</style>\n",
              "<table border=\"1\" class=\"dataframe\">\n",
              "  <thead>\n",
              "    <tr style=\"text-align: right;\">\n",
              "      <th></th>\n",
              "      <th>patientid</th>\n",
              "      <th>appointmentid</th>\n",
              "      <th>gender</th>\n",
              "      <th>scheduledday</th>\n",
              "      <th>appointmentday</th>\n",
              "      <th>age</th>\n",
              "      <th>neighbourhood</th>\n",
              "      <th>scholarship</th>\n",
              "      <th>hipertension</th>\n",
              "      <th>diabetes</th>\n",
              "      <th>alcoholism</th>\n",
              "      <th>handcap</th>\n",
              "      <th>sms_received</th>\n",
              "      <th>show</th>\n",
              "      <th>age_group</th>\n",
              "      <th>timeofday</th>\n",
              "    </tr>\n",
              "  </thead>\n",
              "  <tbody>\n",
              "    <tr>\n",
              "      <th>0</th>\n",
              "      <td>29872499824296</td>\n",
              "      <td>5642903</td>\n",
              "      <td>F</td>\n",
              "      <td>2016-04-29 18:38:08</td>\n",
              "      <td>2016-04-29</td>\n",
              "      <td>62</td>\n",
              "      <td>JARDIM DA PENHA</td>\n",
              "      <td>0</td>\n",
              "      <td>1</td>\n",
              "      <td>0</td>\n",
              "      <td>0</td>\n",
              "      <td>0</td>\n",
              "      <td>0</td>\n",
              "      <td>1</td>\n",
              "      <td>Old-age Adults (above 45)</td>\n",
              "      <td>afternoon</td>\n",
              "    </tr>\n",
              "    <tr>\n",
              "      <th>1</th>\n",
              "      <td>558997776694438</td>\n",
              "      <td>5642503</td>\n",
              "      <td>M</td>\n",
              "      <td>2016-04-29 16:08:27</td>\n",
              "      <td>2016-04-29</td>\n",
              "      <td>56</td>\n",
              "      <td>JARDIM DA PENHA</td>\n",
              "      <td>0</td>\n",
              "      <td>0</td>\n",
              "      <td>0</td>\n",
              "      <td>0</td>\n",
              "      <td>0</td>\n",
              "      <td>0</td>\n",
              "      <td>1</td>\n",
              "      <td>Old-age Adults (above 45)</td>\n",
              "      <td>afternoon</td>\n",
              "    </tr>\n",
              "    <tr>\n",
              "      <th>2</th>\n",
              "      <td>4262962299951</td>\n",
              "      <td>5642549</td>\n",
              "      <td>F</td>\n",
              "      <td>2016-04-29 16:19:04</td>\n",
              "      <td>2016-04-29</td>\n",
              "      <td>62</td>\n",
              "      <td>MATA DA PRAIA</td>\n",
              "      <td>0</td>\n",
              "      <td>0</td>\n",
              "      <td>0</td>\n",
              "      <td>0</td>\n",
              "      <td>0</td>\n",
              "      <td>0</td>\n",
              "      <td>1</td>\n",
              "      <td>Old-age Adults (above 45)</td>\n",
              "      <td>afternoon</td>\n",
              "    </tr>\n",
              "    <tr>\n",
              "      <th>3</th>\n",
              "      <td>867951213174</td>\n",
              "      <td>5642828</td>\n",
              "      <td>F</td>\n",
              "      <td>2016-04-29 17:29:31</td>\n",
              "      <td>2016-04-29</td>\n",
              "      <td>8</td>\n",
              "      <td>PONTAL DE CAMBURI</td>\n",
              "      <td>0</td>\n",
              "      <td>0</td>\n",
              "      <td>0</td>\n",
              "      <td>0</td>\n",
              "      <td>0</td>\n",
              "      <td>0</td>\n",
              "      <td>1</td>\n",
              "      <td>child (0-16)</td>\n",
              "      <td>afternoon</td>\n",
              "    </tr>\n",
              "    <tr>\n",
              "      <th>4</th>\n",
              "      <td>8841186448183</td>\n",
              "      <td>5642494</td>\n",
              "      <td>F</td>\n",
              "      <td>2016-04-29 16:07:23</td>\n",
              "      <td>2016-04-29</td>\n",
              "      <td>56</td>\n",
              "      <td>JARDIM DA PENHA</td>\n",
              "      <td>0</td>\n",
              "      <td>1</td>\n",
              "      <td>1</td>\n",
              "      <td>0</td>\n",
              "      <td>0</td>\n",
              "      <td>0</td>\n",
              "      <td>1</td>\n",
              "      <td>Old-age Adults (above 45)</td>\n",
              "      <td>afternoon</td>\n",
              "    </tr>\n",
              "  </tbody>\n",
              "</table>\n",
              "</div>\n",
              "      <button class=\"colab-df-convert\" onclick=\"convertToInteractive('df-7dc83dad-3428-4f32-b1a3-de34f1f7b885')\"\n",
              "              title=\"Convert this dataframe to an interactive table.\"\n",
              "              style=\"display:none;\">\n",
              "        \n",
              "  <svg xmlns=\"http://www.w3.org/2000/svg\" height=\"24px\"viewBox=\"0 0 24 24\"\n",
              "       width=\"24px\">\n",
              "    <path d=\"M0 0h24v24H0V0z\" fill=\"none\"/>\n",
              "    <path d=\"M18.56 5.44l.94 2.06.94-2.06 2.06-.94-2.06-.94-.94-2.06-.94 2.06-2.06.94zm-11 1L8.5 8.5l.94-2.06 2.06-.94-2.06-.94L8.5 2.5l-.94 2.06-2.06.94zm10 10l.94 2.06.94-2.06 2.06-.94-2.06-.94-.94-2.06-.94 2.06-2.06.94z\"/><path d=\"M17.41 7.96l-1.37-1.37c-.4-.4-.92-.59-1.43-.59-.52 0-1.04.2-1.43.59L10.3 9.45l-7.72 7.72c-.78.78-.78 2.05 0 2.83L4 21.41c.39.39.9.59 1.41.59.51 0 1.02-.2 1.41-.59l7.78-7.78 2.81-2.81c.8-.78.8-2.07 0-2.86zM5.41 20L4 18.59l7.72-7.72 1.47 1.35L5.41 20z\"/>\n",
              "  </svg>\n",
              "      </button>\n",
              "      \n",
              "  <style>\n",
              "    .colab-df-container {\n",
              "      display:flex;\n",
              "      flex-wrap:wrap;\n",
              "      gap: 12px;\n",
              "    }\n",
              "\n",
              "    .colab-df-convert {\n",
              "      background-color: #E8F0FE;\n",
              "      border: none;\n",
              "      border-radius: 50%;\n",
              "      cursor: pointer;\n",
              "      display: none;\n",
              "      fill: #1967D2;\n",
              "      height: 32px;\n",
              "      padding: 0 0 0 0;\n",
              "      width: 32px;\n",
              "    }\n",
              "\n",
              "    .colab-df-convert:hover {\n",
              "      background-color: #E2EBFA;\n",
              "      box-shadow: 0px 1px 2px rgba(60, 64, 67, 0.3), 0px 1px 3px 1px rgba(60, 64, 67, 0.15);\n",
              "      fill: #174EA6;\n",
              "    }\n",
              "\n",
              "    [theme=dark] .colab-df-convert {\n",
              "      background-color: #3B4455;\n",
              "      fill: #D2E3FC;\n",
              "    }\n",
              "\n",
              "    [theme=dark] .colab-df-convert:hover {\n",
              "      background-color: #434B5C;\n",
              "      box-shadow: 0px 1px 3px 1px rgba(0, 0, 0, 0.15);\n",
              "      filter: drop-shadow(0px 1px 2px rgba(0, 0, 0, 0.3));\n",
              "      fill: #FFFFFF;\n",
              "    }\n",
              "  </style>\n",
              "\n",
              "      <script>\n",
              "        const buttonEl =\n",
              "          document.querySelector('#df-7dc83dad-3428-4f32-b1a3-de34f1f7b885 button.colab-df-convert');\n",
              "        buttonEl.style.display =\n",
              "          google.colab.kernel.accessAllowed ? 'block' : 'none';\n",
              "\n",
              "        async function convertToInteractive(key) {\n",
              "          const element = document.querySelector('#df-7dc83dad-3428-4f32-b1a3-de34f1f7b885');\n",
              "          const dataTable =\n",
              "            await google.colab.kernel.invokeFunction('convertToInteractive',\n",
              "                                                     [key], {});\n",
              "          if (!dataTable) return;\n",
              "\n",
              "          const docLinkHtml = 'Like what you see? Visit the ' +\n",
              "            '<a target=\"_blank\" href=https://colab.research.google.com/notebooks/data_table.ipynb>data table notebook</a>'\n",
              "            + ' to learn more about interactive tables.';\n",
              "          element.innerHTML = '';\n",
              "          dataTable['output_type'] = 'display_data';\n",
              "          await google.colab.output.renderOutput(dataTable, element);\n",
              "          const docLink = document.createElement('div');\n",
              "          docLink.innerHTML = docLinkHtml;\n",
              "          element.appendChild(docLink);\n",
              "        }\n",
              "      </script>\n",
              "    </div>\n",
              "  </div>\n",
              "  "
            ],
            "text/plain": [
              "         patientid  appointmentid  ...                  age_group  timeofday\n",
              "0   29872499824296        5642903  ...  Old-age Adults (above 45)  afternoon\n",
              "1  558997776694438        5642503  ...  Old-age Adults (above 45)  afternoon\n",
              "2    4262962299951        5642549  ...  Old-age Adults (above 45)  afternoon\n",
              "3     867951213174        5642828  ...               child (0-16)  afternoon\n",
              "4    8841186448183        5642494  ...  Old-age Adults (above 45)  afternoon\n",
              "\n",
              "[5 rows x 16 columns]"
            ]
          },
          "metadata": {},
          "execution_count": 21
        }
      ]
    },
    {
      "cell_type": "markdown",
      "source": [
        "EDA explore data analysis"
      ],
      "metadata": {
        "id": "Z0csY3zFYOUc"
      }
    },
    {
      "cell_type": "code",
      "source": [
        "df_updated = df[['gender', 'age','scholarship', 'hipertension', 'diabetes', 'alcoholism', 'handcap','sms_received', 'show', 'age_group', 'timeofday' ]]"
      ],
      "metadata": {
        "id": "qhN-e4InX5so"
      },
      "execution_count": 22,
      "outputs": []
    },
    {
      "cell_type": "code",
      "source": [
        "df_updated.head()"
      ],
      "metadata": {
        "colab": {
          "base_uri": "https://localhost:8080/",
          "height": 320
        },
        "id": "wiF_wQLTYMzu",
        "outputId": "709d7ffa-99c8-41dc-a5a7-1481b187f8fd"
      },
      "execution_count": 23,
      "outputs": [
        {
          "output_type": "execute_result",
          "data": {
            "text/html": [
              "\n",
              "  <div id=\"df-0836d3f4-d814-42d5-b03f-3bbf2554fa26\">\n",
              "    <div class=\"colab-df-container\">\n",
              "      <div>\n",
              "<style scoped>\n",
              "    .dataframe tbody tr th:only-of-type {\n",
              "        vertical-align: middle;\n",
              "    }\n",
              "\n",
              "    .dataframe tbody tr th {\n",
              "        vertical-align: top;\n",
              "    }\n",
              "\n",
              "    .dataframe thead th {\n",
              "        text-align: right;\n",
              "    }\n",
              "</style>\n",
              "<table border=\"1\" class=\"dataframe\">\n",
              "  <thead>\n",
              "    <tr style=\"text-align: right;\">\n",
              "      <th></th>\n",
              "      <th>gender</th>\n",
              "      <th>age</th>\n",
              "      <th>scholarship</th>\n",
              "      <th>hipertension</th>\n",
              "      <th>diabetes</th>\n",
              "      <th>alcoholism</th>\n",
              "      <th>handcap</th>\n",
              "      <th>sms_received</th>\n",
              "      <th>show</th>\n",
              "      <th>age_group</th>\n",
              "      <th>timeofday</th>\n",
              "    </tr>\n",
              "  </thead>\n",
              "  <tbody>\n",
              "    <tr>\n",
              "      <th>0</th>\n",
              "      <td>F</td>\n",
              "      <td>62</td>\n",
              "      <td>0</td>\n",
              "      <td>1</td>\n",
              "      <td>0</td>\n",
              "      <td>0</td>\n",
              "      <td>0</td>\n",
              "      <td>0</td>\n",
              "      <td>1</td>\n",
              "      <td>Old-age Adults (above 45)</td>\n",
              "      <td>afternoon</td>\n",
              "    </tr>\n",
              "    <tr>\n",
              "      <th>1</th>\n",
              "      <td>M</td>\n",
              "      <td>56</td>\n",
              "      <td>0</td>\n",
              "      <td>0</td>\n",
              "      <td>0</td>\n",
              "      <td>0</td>\n",
              "      <td>0</td>\n",
              "      <td>0</td>\n",
              "      <td>1</td>\n",
              "      <td>Old-age Adults (above 45)</td>\n",
              "      <td>afternoon</td>\n",
              "    </tr>\n",
              "    <tr>\n",
              "      <th>2</th>\n",
              "      <td>F</td>\n",
              "      <td>62</td>\n",
              "      <td>0</td>\n",
              "      <td>0</td>\n",
              "      <td>0</td>\n",
              "      <td>0</td>\n",
              "      <td>0</td>\n",
              "      <td>0</td>\n",
              "      <td>1</td>\n",
              "      <td>Old-age Adults (above 45)</td>\n",
              "      <td>afternoon</td>\n",
              "    </tr>\n",
              "    <tr>\n",
              "      <th>3</th>\n",
              "      <td>F</td>\n",
              "      <td>8</td>\n",
              "      <td>0</td>\n",
              "      <td>0</td>\n",
              "      <td>0</td>\n",
              "      <td>0</td>\n",
              "      <td>0</td>\n",
              "      <td>0</td>\n",
              "      <td>1</td>\n",
              "      <td>child (0-16)</td>\n",
              "      <td>afternoon</td>\n",
              "    </tr>\n",
              "    <tr>\n",
              "      <th>4</th>\n",
              "      <td>F</td>\n",
              "      <td>56</td>\n",
              "      <td>0</td>\n",
              "      <td>1</td>\n",
              "      <td>1</td>\n",
              "      <td>0</td>\n",
              "      <td>0</td>\n",
              "      <td>0</td>\n",
              "      <td>1</td>\n",
              "      <td>Old-age Adults (above 45)</td>\n",
              "      <td>afternoon</td>\n",
              "    </tr>\n",
              "  </tbody>\n",
              "</table>\n",
              "</div>\n",
              "      <button class=\"colab-df-convert\" onclick=\"convertToInteractive('df-0836d3f4-d814-42d5-b03f-3bbf2554fa26')\"\n",
              "              title=\"Convert this dataframe to an interactive table.\"\n",
              "              style=\"display:none;\">\n",
              "        \n",
              "  <svg xmlns=\"http://www.w3.org/2000/svg\" height=\"24px\"viewBox=\"0 0 24 24\"\n",
              "       width=\"24px\">\n",
              "    <path d=\"M0 0h24v24H0V0z\" fill=\"none\"/>\n",
              "    <path d=\"M18.56 5.44l.94 2.06.94-2.06 2.06-.94-2.06-.94-.94-2.06-.94 2.06-2.06.94zm-11 1L8.5 8.5l.94-2.06 2.06-.94-2.06-.94L8.5 2.5l-.94 2.06-2.06.94zm10 10l.94 2.06.94-2.06 2.06-.94-2.06-.94-.94-2.06-.94 2.06-2.06.94z\"/><path d=\"M17.41 7.96l-1.37-1.37c-.4-.4-.92-.59-1.43-.59-.52 0-1.04.2-1.43.59L10.3 9.45l-7.72 7.72c-.78.78-.78 2.05 0 2.83L4 21.41c.39.39.9.59 1.41.59.51 0 1.02-.2 1.41-.59l7.78-7.78 2.81-2.81c.8-.78.8-2.07 0-2.86zM5.41 20L4 18.59l7.72-7.72 1.47 1.35L5.41 20z\"/>\n",
              "  </svg>\n",
              "      </button>\n",
              "      \n",
              "  <style>\n",
              "    .colab-df-container {\n",
              "      display:flex;\n",
              "      flex-wrap:wrap;\n",
              "      gap: 12px;\n",
              "    }\n",
              "\n",
              "    .colab-df-convert {\n",
              "      background-color: #E8F0FE;\n",
              "      border: none;\n",
              "      border-radius: 50%;\n",
              "      cursor: pointer;\n",
              "      display: none;\n",
              "      fill: #1967D2;\n",
              "      height: 32px;\n",
              "      padding: 0 0 0 0;\n",
              "      width: 32px;\n",
              "    }\n",
              "\n",
              "    .colab-df-convert:hover {\n",
              "      background-color: #E2EBFA;\n",
              "      box-shadow: 0px 1px 2px rgba(60, 64, 67, 0.3), 0px 1px 3px 1px rgba(60, 64, 67, 0.15);\n",
              "      fill: #174EA6;\n",
              "    }\n",
              "\n",
              "    [theme=dark] .colab-df-convert {\n",
              "      background-color: #3B4455;\n",
              "      fill: #D2E3FC;\n",
              "    }\n",
              "\n",
              "    [theme=dark] .colab-df-convert:hover {\n",
              "      background-color: #434B5C;\n",
              "      box-shadow: 0px 1px 3px 1px rgba(0, 0, 0, 0.15);\n",
              "      filter: drop-shadow(0px 1px 2px rgba(0, 0, 0, 0.3));\n",
              "      fill: #FFFFFF;\n",
              "    }\n",
              "  </style>\n",
              "\n",
              "      <script>\n",
              "        const buttonEl =\n",
              "          document.querySelector('#df-0836d3f4-d814-42d5-b03f-3bbf2554fa26 button.colab-df-convert');\n",
              "        buttonEl.style.display =\n",
              "          google.colab.kernel.accessAllowed ? 'block' : 'none';\n",
              "\n",
              "        async function convertToInteractive(key) {\n",
              "          const element = document.querySelector('#df-0836d3f4-d814-42d5-b03f-3bbf2554fa26');\n",
              "          const dataTable =\n",
              "            await google.colab.kernel.invokeFunction('convertToInteractive',\n",
              "                                                     [key], {});\n",
              "          if (!dataTable) return;\n",
              "\n",
              "          const docLinkHtml = 'Like what you see? Visit the ' +\n",
              "            '<a target=\"_blank\" href=https://colab.research.google.com/notebooks/data_table.ipynb>data table notebook</a>'\n",
              "            + ' to learn more about interactive tables.';\n",
              "          element.innerHTML = '';\n",
              "          dataTable['output_type'] = 'display_data';\n",
              "          await google.colab.output.renderOutput(dataTable, element);\n",
              "          const docLink = document.createElement('div');\n",
              "          docLink.innerHTML = docLinkHtml;\n",
              "          element.appendChild(docLink);\n",
              "        }\n",
              "      </script>\n",
              "    </div>\n",
              "  </div>\n",
              "  "
            ],
            "text/plain": [
              "  gender  age  scholarship  ...  show                  age_group  timeofday\n",
              "0      F   62            0  ...     1  Old-age Adults (above 45)  afternoon\n",
              "1      M   56            0  ...     1  Old-age Adults (above 45)  afternoon\n",
              "2      F   62            0  ...     1  Old-age Adults (above 45)  afternoon\n",
              "3      F    8            0  ...     1               child (0-16)  afternoon\n",
              "4      F   56            0  ...     1  Old-age Adults (above 45)  afternoon\n",
              "\n",
              "[5 rows x 11 columns]"
            ]
          },
          "metadata": {},
          "execution_count": 23
        }
      ]
    },
    {
      "cell_type": "code",
      "source": [
        "#create a mask to analyse more easily if people showed or not at ScheduledDay\n",
        "show = df_updated.show == True\n",
        "no_show = df_updated.show == False"
      ],
      "metadata": {
        "id": "ci5uPuoqYXJe"
      },
      "execution_count": 24,
      "outputs": []
    },
    {
      "cell_type": "code",
      "source": [
        "df_updated.describe()"
      ],
      "metadata": {
        "colab": {
          "base_uri": "https://localhost:8080/",
          "height": 364
        },
        "id": "5scXPb-QYXL1",
        "outputId": "7402d53a-1d45-4d0b-bd6d-4bf628f91653"
      },
      "execution_count": 25,
      "outputs": [
        {
          "output_type": "execute_result",
          "data": {
            "text/html": [
              "\n",
              "  <div id=\"df-a27d65eb-9921-499a-9e70-6e0dc05e1c89\">\n",
              "    <div class=\"colab-df-container\">\n",
              "      <div>\n",
              "<style scoped>\n",
              "    .dataframe tbody tr th:only-of-type {\n",
              "        vertical-align: middle;\n",
              "    }\n",
              "\n",
              "    .dataframe tbody tr th {\n",
              "        vertical-align: top;\n",
              "    }\n",
              "\n",
              "    .dataframe thead th {\n",
              "        text-align: right;\n",
              "    }\n",
              "</style>\n",
              "<table border=\"1\" class=\"dataframe\">\n",
              "  <thead>\n",
              "    <tr style=\"text-align: right;\">\n",
              "      <th></th>\n",
              "      <th>age</th>\n",
              "      <th>scholarship</th>\n",
              "      <th>hipertension</th>\n",
              "      <th>diabetes</th>\n",
              "      <th>alcoholism</th>\n",
              "      <th>handcap</th>\n",
              "      <th>sms_received</th>\n",
              "      <th>show</th>\n",
              "    </tr>\n",
              "  </thead>\n",
              "  <tbody>\n",
              "    <tr>\n",
              "      <th>count</th>\n",
              "      <td>110526.000000</td>\n",
              "      <td>110526.000000</td>\n",
              "      <td>110526.000000</td>\n",
              "      <td>110526.000000</td>\n",
              "      <td>110526.000000</td>\n",
              "      <td>110526.000000</td>\n",
              "      <td>110526.000000</td>\n",
              "      <td>110526.000000</td>\n",
              "    </tr>\n",
              "    <tr>\n",
              "      <th>mean</th>\n",
              "      <td>37.089219</td>\n",
              "      <td>0.098266</td>\n",
              "      <td>0.197248</td>\n",
              "      <td>0.071865</td>\n",
              "      <td>0.030400</td>\n",
              "      <td>0.022248</td>\n",
              "      <td>0.321029</td>\n",
              "      <td>0.798066</td>\n",
              "    </tr>\n",
              "    <tr>\n",
              "      <th>std</th>\n",
              "      <td>23.110026</td>\n",
              "      <td>0.297676</td>\n",
              "      <td>0.397923</td>\n",
              "      <td>0.258266</td>\n",
              "      <td>0.171686</td>\n",
              "      <td>0.161543</td>\n",
              "      <td>0.466874</td>\n",
              "      <td>0.401445</td>\n",
              "    </tr>\n",
              "    <tr>\n",
              "      <th>min</th>\n",
              "      <td>0.000000</td>\n",
              "      <td>0.000000</td>\n",
              "      <td>0.000000</td>\n",
              "      <td>0.000000</td>\n",
              "      <td>0.000000</td>\n",
              "      <td>0.000000</td>\n",
              "      <td>0.000000</td>\n",
              "      <td>0.000000</td>\n",
              "    </tr>\n",
              "    <tr>\n",
              "      <th>25%</th>\n",
              "      <td>18.000000</td>\n",
              "      <td>0.000000</td>\n",
              "      <td>0.000000</td>\n",
              "      <td>0.000000</td>\n",
              "      <td>0.000000</td>\n",
              "      <td>0.000000</td>\n",
              "      <td>0.000000</td>\n",
              "      <td>1.000000</td>\n",
              "    </tr>\n",
              "    <tr>\n",
              "      <th>50%</th>\n",
              "      <td>37.000000</td>\n",
              "      <td>0.000000</td>\n",
              "      <td>0.000000</td>\n",
              "      <td>0.000000</td>\n",
              "      <td>0.000000</td>\n",
              "      <td>0.000000</td>\n",
              "      <td>0.000000</td>\n",
              "      <td>1.000000</td>\n",
              "    </tr>\n",
              "    <tr>\n",
              "      <th>75%</th>\n",
              "      <td>55.000000</td>\n",
              "      <td>0.000000</td>\n",
              "      <td>0.000000</td>\n",
              "      <td>0.000000</td>\n",
              "      <td>0.000000</td>\n",
              "      <td>0.000000</td>\n",
              "      <td>1.000000</td>\n",
              "      <td>1.000000</td>\n",
              "    </tr>\n",
              "    <tr>\n",
              "      <th>max</th>\n",
              "      <td>115.000000</td>\n",
              "      <td>1.000000</td>\n",
              "      <td>1.000000</td>\n",
              "      <td>1.000000</td>\n",
              "      <td>1.000000</td>\n",
              "      <td>4.000000</td>\n",
              "      <td>1.000000</td>\n",
              "      <td>1.000000</td>\n",
              "    </tr>\n",
              "  </tbody>\n",
              "</table>\n",
              "</div>\n",
              "      <button class=\"colab-df-convert\" onclick=\"convertToInteractive('df-a27d65eb-9921-499a-9e70-6e0dc05e1c89')\"\n",
              "              title=\"Convert this dataframe to an interactive table.\"\n",
              "              style=\"display:none;\">\n",
              "        \n",
              "  <svg xmlns=\"http://www.w3.org/2000/svg\" height=\"24px\"viewBox=\"0 0 24 24\"\n",
              "       width=\"24px\">\n",
              "    <path d=\"M0 0h24v24H0V0z\" fill=\"none\"/>\n",
              "    <path d=\"M18.56 5.44l.94 2.06.94-2.06 2.06-.94-2.06-.94-.94-2.06-.94 2.06-2.06.94zm-11 1L8.5 8.5l.94-2.06 2.06-.94-2.06-.94L8.5 2.5l-.94 2.06-2.06.94zm10 10l.94 2.06.94-2.06 2.06-.94-2.06-.94-.94-2.06-.94 2.06-2.06.94z\"/><path d=\"M17.41 7.96l-1.37-1.37c-.4-.4-.92-.59-1.43-.59-.52 0-1.04.2-1.43.59L10.3 9.45l-7.72 7.72c-.78.78-.78 2.05 0 2.83L4 21.41c.39.39.9.59 1.41.59.51 0 1.02-.2 1.41-.59l7.78-7.78 2.81-2.81c.8-.78.8-2.07 0-2.86zM5.41 20L4 18.59l7.72-7.72 1.47 1.35L5.41 20z\"/>\n",
              "  </svg>\n",
              "      </button>\n",
              "      \n",
              "  <style>\n",
              "    .colab-df-container {\n",
              "      display:flex;\n",
              "      flex-wrap:wrap;\n",
              "      gap: 12px;\n",
              "    }\n",
              "\n",
              "    .colab-df-convert {\n",
              "      background-color: #E8F0FE;\n",
              "      border: none;\n",
              "      border-radius: 50%;\n",
              "      cursor: pointer;\n",
              "      display: none;\n",
              "      fill: #1967D2;\n",
              "      height: 32px;\n",
              "      padding: 0 0 0 0;\n",
              "      width: 32px;\n",
              "    }\n",
              "\n",
              "    .colab-df-convert:hover {\n",
              "      background-color: #E2EBFA;\n",
              "      box-shadow: 0px 1px 2px rgba(60, 64, 67, 0.3), 0px 1px 3px 1px rgba(60, 64, 67, 0.15);\n",
              "      fill: #174EA6;\n",
              "    }\n",
              "\n",
              "    [theme=dark] .colab-df-convert {\n",
              "      background-color: #3B4455;\n",
              "      fill: #D2E3FC;\n",
              "    }\n",
              "\n",
              "    [theme=dark] .colab-df-convert:hover {\n",
              "      background-color: #434B5C;\n",
              "      box-shadow: 0px 1px 3px 1px rgba(0, 0, 0, 0.15);\n",
              "      filter: drop-shadow(0px 1px 2px rgba(0, 0, 0, 0.3));\n",
              "      fill: #FFFFFF;\n",
              "    }\n",
              "  </style>\n",
              "\n",
              "      <script>\n",
              "        const buttonEl =\n",
              "          document.querySelector('#df-a27d65eb-9921-499a-9e70-6e0dc05e1c89 button.colab-df-convert');\n",
              "        buttonEl.style.display =\n",
              "          google.colab.kernel.accessAllowed ? 'block' : 'none';\n",
              "\n",
              "        async function convertToInteractive(key) {\n",
              "          const element = document.querySelector('#df-a27d65eb-9921-499a-9e70-6e0dc05e1c89');\n",
              "          const dataTable =\n",
              "            await google.colab.kernel.invokeFunction('convertToInteractive',\n",
              "                                                     [key], {});\n",
              "          if (!dataTable) return;\n",
              "\n",
              "          const docLinkHtml = 'Like what you see? Visit the ' +\n",
              "            '<a target=\"_blank\" href=https://colab.research.google.com/notebooks/data_table.ipynb>data table notebook</a>'\n",
              "            + ' to learn more about interactive tables.';\n",
              "          element.innerHTML = '';\n",
              "          dataTable['output_type'] = 'display_data';\n",
              "          await google.colab.output.renderOutput(dataTable, element);\n",
              "          const docLink = document.createElement('div');\n",
              "          docLink.innerHTML = docLinkHtml;\n",
              "          element.appendChild(docLink);\n",
              "        }\n",
              "      </script>\n",
              "    </div>\n",
              "  </div>\n",
              "  "
            ],
            "text/plain": [
              "                 age    scholarship  ...   sms_received           show\n",
              "count  110526.000000  110526.000000  ...  110526.000000  110526.000000\n",
              "mean       37.089219       0.098266  ...       0.321029       0.798066\n",
              "std        23.110026       0.297676  ...       0.466874       0.401445\n",
              "min         0.000000       0.000000  ...       0.000000       0.000000\n",
              "25%        18.000000       0.000000  ...       0.000000       1.000000\n",
              "50%        37.000000       0.000000  ...       0.000000       1.000000\n",
              "75%        55.000000       0.000000  ...       1.000000       1.000000\n",
              "max       115.000000       1.000000  ...       1.000000       1.000000\n",
              "\n",
              "[8 rows x 8 columns]"
            ]
          },
          "metadata": {},
          "execution_count": 25
        }
      ]
    },
    {
      "cell_type": "markdown",
      "source": [
        "the average age is 37.089219"
      ],
      "metadata": {
        "id": "U3VvEB8OYfk7"
      }
    },
    {
      "cell_type": "code",
      "source": [
        "#visualising the histograms of the df_updated\n",
        "df_updated[['age','scholarship','hipertension','diabetes','alcoholism'\t,'handcap',\t'sms_received','show']].hist(figsize=(20,10))"
      ],
      "metadata": {
        "colab": {
          "base_uri": "https://localhost:8080/",
          "height": 656
        },
        "id": "5JdFG0XhYXON",
        "outputId": "e3fcdd59-c55f-4bde-b1f2-b0cc938cc884"
      },
      "execution_count": 26,
      "outputs": [
        {
          "output_type": "execute_result",
          "data": {
            "text/plain": [
              "array([[<matplotlib.axes._subplots.AxesSubplot object at 0x7fae3276cbd0>,\n",
              "        <matplotlib.axes._subplots.AxesSubplot object at 0x7fae32722350>,\n",
              "        <matplotlib.axes._subplots.AxesSubplot object at 0x7fae3270da10>],\n",
              "       [<matplotlib.axes._subplots.AxesSubplot object at 0x7fae326c3fd0>,\n",
              "        <matplotlib.axes._subplots.AxesSubplot object at 0x7fae32687650>,\n",
              "        <matplotlib.axes._subplots.AxesSubplot object at 0x7fae3263bc50>],\n",
              "       [<matplotlib.axes._subplots.AxesSubplot object at 0x7fae325fe310>,\n",
              "        <matplotlib.axes._subplots.AxesSubplot object at 0x7fae325b2850>,\n",
              "        <matplotlib.axes._subplots.AxesSubplot object at 0x7fae325b2890>]],\n",
              "      dtype=object)"
            ]
          },
          "metadata": {},
          "execution_count": 26
        },
        {
          "output_type": "display_data",
          "data": {
            "image/png": "[encoded data removed]",
            "text/plain": [
              "<Figure size 1440x720 with 9 Axes>"
            ]
          },
          "metadata": {
            "needs_background": "light"
          }
        }
      ]
    },
    {
      "cell_type": "markdown",
      "source": [
        "**What is the average age of people who showed up?**\n",
        "\n",
        "\n",
        "\n"
      ],
      "metadata": {
        "id": "6mtkNKWyvW8o"
      }
    },
    {
      "cell_type": "code",
      "source": [
        "# using group by function to find relations between features \n",
        "# visualize the average of people who came + print the percentage\n",
        "\n",
        "df.groupby('age')['show'].mean().hist(alpha=0.6,bins=25,label='show');\n",
        "plt.xlabel(\"Showed\")\n",
        "plt.ylabel(\"Age\")\n",
        "plt.title(\"Age of people who showed\")\n",
        "plt.legend()"
      ],
      "metadata": {
        "colab": {
          "base_uri": "https://localhost:8080/",
          "height": 312
        },
        "id": "2FfP9sMSYqSD",
        "outputId": "70ac86e2-fd3e-45dd-93a6-7ec9400e5b92"
      },
      "execution_count": 27,
      "outputs": [
        {
          "output_type": "execute_result",
          "data": {
            "text/plain": [
              "<matplotlib.legend.Legend at 0x7fae323866d0>"
            ]
          },
          "metadata": {},
          "execution_count": 27
        },
        {
          "output_type": "display_data",
          "data": {
            "image/png": "[encoded data removed]",
            "text/plain": [
              "<Figure size 432x288 with 1 Axes>"
            ]
          },
          "metadata": {
            "needs_background": "light"
          }
        }
      ]
    },
    {
      "cell_type": "markdown",
      "source": [
        "the graph shows the average age of people who showed up in their appointment"
      ],
      "metadata": {
        "id": "i4TW2zfjvXt9"
      }
    },
    {
      "cell_type": "markdown",
      "source": [
        "**What is the percentage of overall people who showed up?**"
      ],
      "metadata": {
        "id": "3O-9UgtqMwTy"
      }
    },
    {
      "cell_type": "code",
      "source": [
        "#plot the percentage of the people who showed vs the not showed\n",
        "allP = df['show'].value_counts()\n",
        "print(allP[1] / allP.sum() * 100)\n",
        "pieChart = allP.plot.pie(figsize=(10,10), autopct='%1.1f%%', fontsize = 12);\n",
        "pieChart.set_title(\"Status\" + ' (%) (Per appointment)\\n', fontsize = 15);\n",
        "plt.legend();"
      ],
      "metadata": {
        "colab": {
          "base_uri": "https://localhost:8080/",
          "height": 627
        },
        "id": "X6Acv0gQY4Cc",
        "outputId": "6647f8cb-2b55-4b1d-d91e-1b121ad3757f"
      },
      "execution_count": null,
      "outputs": [
        {
          "output_type": "stream",
          "name": "stdout",
          "text": [
            "79.80656135208005\n"
          ]
        },
        {
          "output_type": "display_data",
          "data": {
            "image/png": "[encoded data removed]",
            "text/plain": [
              "<Figure size 720x720 with 1 Axes>"
            ]
          },
          "metadata": {}
        }
      ]
    },
    {
      "cell_type": "markdown",
      "source": [
        "the graph above shows that the percentage of the patients who showed to their appointments are ~79.8% "
      ],
      "metadata": {
        "id": "jwPP9H1LvYW-"
      }
    },
    {
      "cell_type": "markdown",
      "source": [
        "**Which factors have positive correlation which have impact on showing to the appointment?**"
      ],
      "metadata": {
        "id": "Or8vKNPtNXc6"
      }
    },
    {
      "cell_type": "code",
      "source": [
        "#find the correlation between the factors \n",
        "cor_matrix = df_updated.corr()\n",
        "cor_matrix"
      ],
      "metadata": {
        "colab": {
          "base_uri": "https://localhost:8080/",
          "height": 300
        },
        "id": "psl-tRldZAH1",
        "outputId": "76063440-57e2-42da-c6ec-2cbcda2f0fda"
      },
      "execution_count": null,
      "outputs": [
        {
          "output_type": "execute_result",
          "data": {
            "text/html": [
              "\n",
              "  <div id=\"df-0d0a15a5-c010-4210-a09a-1ee88d1223c0\">\n",
              "    <div class=\"colab-df-container\">\n",
              "      <div>\n",
              "<style scoped>\n",
              "    .dataframe tbody tr th:only-of-type {\n",
              "        vertical-align: middle;\n",
              "    }\n",
              "\n",
              "    .dataframe tbody tr th {\n",
              "        vertical-align: top;\n",
              "    }\n",
              "\n",
              "    .dataframe thead th {\n",
              "        text-align: right;\n",
              "    }\n",
              "</style>\n",
              "<table border=\"1\" class=\"dataframe\">\n",
              "  <thead>\n",
              "    <tr style=\"text-align: right;\">\n",
              "      <th></th>\n",
              "      <th>age</th>\n",
              "      <th>scholarship</th>\n",
              "      <th>hipertension</th>\n",
              "      <th>diabetes</th>\n",
              "      <th>alcoholism</th>\n",
              "      <th>handcap</th>\n",
              "      <th>sms_received</th>\n",
              "      <th>show</th>\n",
              "    </tr>\n",
              "  </thead>\n",
              "  <tbody>\n",
              "    <tr>\n",
              "      <th>age</th>\n",
              "      <td>1.000000</td>\n",
              "      <td>-0.092463</td>\n",
              "      <td>0.504586</td>\n",
              "      <td>0.292391</td>\n",
              "      <td>0.095810</td>\n",
              "      <td>0.078032</td>\n",
              "      <td>0.012633</td>\n",
              "      <td>0.060327</td>\n",
              "    </tr>\n",
              "    <tr>\n",
              "      <th>scholarship</th>\n",
              "      <td>-0.092463</td>\n",
              "      <td>1.000000</td>\n",
              "      <td>-0.019730</td>\n",
              "      <td>-0.024894</td>\n",
              "      <td>0.035022</td>\n",
              "      <td>-0.008587</td>\n",
              "      <td>0.001192</td>\n",
              "      <td>-0.029134</td>\n",
              "    </tr>\n",
              "    <tr>\n",
              "      <th>hipertension</th>\n",
              "      <td>0.504586</td>\n",
              "      <td>-0.019730</td>\n",
              "      <td>1.000000</td>\n",
              "      <td>0.433085</td>\n",
              "      <td>0.087970</td>\n",
              "      <td>0.080083</td>\n",
              "      <td>-0.006270</td>\n",
              "      <td>0.035704</td>\n",
              "    </tr>\n",
              "    <tr>\n",
              "      <th>diabetes</th>\n",
              "      <td>0.292391</td>\n",
              "      <td>-0.024894</td>\n",
              "      <td>0.433085</td>\n",
              "      <td>1.000000</td>\n",
              "      <td>0.018473</td>\n",
              "      <td>0.057530</td>\n",
              "      <td>-0.014552</td>\n",
              "      <td>0.015181</td>\n",
              "    </tr>\n",
              "    <tr>\n",
              "      <th>alcoholism</th>\n",
              "      <td>0.095810</td>\n",
              "      <td>0.035022</td>\n",
              "      <td>0.087970</td>\n",
              "      <td>0.018473</td>\n",
              "      <td>1.000000</td>\n",
              "      <td>0.004647</td>\n",
              "      <td>-0.026149</td>\n",
              "      <td>0.000197</td>\n",
              "    </tr>\n",
              "    <tr>\n",
              "      <th>handcap</th>\n",
              "      <td>0.078032</td>\n",
              "      <td>-0.008587</td>\n",
              "      <td>0.080083</td>\n",
              "      <td>0.057530</td>\n",
              "      <td>0.004647</td>\n",
              "      <td>1.000000</td>\n",
              "      <td>-0.024162</td>\n",
              "      <td>0.006077</td>\n",
              "    </tr>\n",
              "    <tr>\n",
              "      <th>sms_received</th>\n",
              "      <td>0.012633</td>\n",
              "      <td>0.001192</td>\n",
              "      <td>-0.006270</td>\n",
              "      <td>-0.014552</td>\n",
              "      <td>-0.026149</td>\n",
              "      <td>-0.024162</td>\n",
              "      <td>1.000000</td>\n",
              "      <td>-0.126428</td>\n",
              "    </tr>\n",
              "    <tr>\n",
              "      <th>show</th>\n",
              "      <td>0.060327</td>\n",
              "      <td>-0.029134</td>\n",
              "      <td>0.035704</td>\n",
              "      <td>0.015181</td>\n",
              "      <td>0.000197</td>\n",
              "      <td>0.006077</td>\n",
              "      <td>-0.126428</td>\n",
              "      <td>1.000000</td>\n",
              "    </tr>\n",
              "  </tbody>\n",
              "</table>\n",
              "</div>\n",
              "      <button class=\"colab-df-convert\" onclick=\"convertToInteractive('df-0d0a15a5-c010-4210-a09a-1ee88d1223c0')\"\n",
              "              title=\"Convert this dataframe to an interactive table.\"\n",
              "              style=\"display:none;\">\n",
              "        \n",
              "  <svg xmlns=\"http://www.w3.org/2000/svg\" height=\"24px\"viewBox=\"0 0 24 24\"\n",
              "       width=\"24px\">\n",
              "    <path d=\"M0 0h24v24H0V0z\" fill=\"none\"/>\n",
              "    <path d=\"M18.56 5.44l.94 2.06.94-2.06 2.06-.94-2.06-.94-.94-2.06-.94 2.06-2.06.94zm-11 1L8.5 8.5l.94-2.06 2.06-.94-2.06-.94L8.5 2.5l-.94 2.06-2.06.94zm10 10l.94 2.06.94-2.06 2.06-.94-2.06-.94-.94-2.06-.94 2.06-2.06.94z\"/><path d=\"M17.41 7.96l-1.37-1.37c-.4-.4-.92-.59-1.43-.59-.52 0-1.04.2-1.43.59L10.3 9.45l-7.72 7.72c-.78.78-.78 2.05 0 2.83L4 21.41c.39.39.9.59 1.41.59.51 0 1.02-.2 1.41-.59l7.78-7.78 2.81-2.81c.8-.78.8-2.07 0-2.86zM5.41 20L4 18.59l7.72-7.72 1.47 1.35L5.41 20z\"/>\n",
              "  </svg>\n",
              "      </button>\n",
              "      \n",
              "  <style>\n",
              "    .colab-df-container {\n",
              "      display:flex;\n",
              "      flex-wrap:wrap;\n",
              "      gap: 12px;\n",
              "    }\n",
              "\n",
              "    .colab-df-convert {\n",
              "      background-color: #E8F0FE;\n",
              "      border: none;\n",
              "      border-radius: 50%;\n",
              "      cursor: pointer;\n",
              "      display: none;\n",
              "      fill: #1967D2;\n",
              "      height: 32px;\n",
              "      padding: 0 0 0 0;\n",
              "      width: 32px;\n",
              "    }\n",
              "\n",
              "    .colab-df-convert:hover {\n",
              "      background-color: #E2EBFA;\n",
              "      box-shadow: 0px 1px 2px rgba(60, 64, 67, 0.3), 0px 1px 3px 1px rgba(60, 64, 67, 0.15);\n",
              "      fill: #174EA6;\n",
              "    }\n",
              "\n",
              "    [theme=dark] .colab-df-convert {\n",
              "      background-color: #3B4455;\n",
              "      fill: #D2E3FC;\n",
              "    }\n",
              "\n",
              "    [theme=dark] .colab-df-convert:hover {\n",
              "      background-color: #434B5C;\n",
              "      box-shadow: 0px 1px 3px 1px rgba(0, 0, 0, 0.15);\n",
              "      filter: drop-shadow(0px 1px 2px rgba(0, 0, 0, 0.3));\n",
              "      fill: #FFFFFF;\n",
              "    }\n",
              "  </style>\n",
              "\n",
              "      <script>\n",
              "        const buttonEl =\n",
              "          document.querySelector('#df-0d0a15a5-c010-4210-a09a-1ee88d1223c0 button.colab-df-convert');\n",
              "        buttonEl.style.display =\n",
              "          google.colab.kernel.accessAllowed ? 'block' : 'none';\n",
              "\n",
              "        async function convertToInteractive(key) {\n",
              "          const element = document.querySelector('#df-0d0a15a5-c010-4210-a09a-1ee88d1223c0');\n",
              "          const dataTable =\n",
              "            await google.colab.kernel.invokeFunction('convertToInteractive',\n",
              "                                                     [key], {});\n",
              "          if (!dataTable) return;\n",
              "\n",
              "          const docLinkHtml = 'Like what you see? Visit the ' +\n",
              "            '<a target=\"_blank\" href=https://colab.research.google.com/notebooks/data_table.ipynb>data table notebook</a>'\n",
              "            + ' to learn more about interactive tables.';\n",
              "          element.innerHTML = '';\n",
              "          dataTable['output_type'] = 'display_data';\n",
              "          await google.colab.output.renderOutput(dataTable, element);\n",
              "          const docLink = document.createElement('div');\n",
              "          docLink.innerHTML = docLinkHtml;\n",
              "          element.appendChild(docLink);\n",
              "        }\n",
              "      </script>\n",
              "    </div>\n",
              "  </div>\n",
              "  "
            ],
            "text/plain": [
              "                   age  scholarship  ...  sms_received      show\n",
              "age           1.000000    -0.092463  ...      0.012633  0.060327\n",
              "scholarship  -0.092463     1.000000  ...      0.001192 -0.029134\n",
              "hipertension  0.504586    -0.019730  ...     -0.006270  0.035704\n",
              "diabetes      0.292391    -0.024894  ...     -0.014552  0.015181\n",
              "alcoholism    0.095810     0.035022  ...     -0.026149  0.000197\n",
              "handcap       0.078032    -0.008587  ...     -0.024162  0.006077\n",
              "sms_received  0.012633     0.001192  ...      1.000000 -0.126428\n",
              "show          0.060327    -0.029134  ...     -0.126428  1.000000\n",
              "\n",
              "[8 rows x 8 columns]"
            ]
          },
          "metadata": {},
          "execution_count": 29
        }
      ]
    },
    {
      "cell_type": "code",
      "source": [
        "#visualize the correlation between the factors\n",
        "fig, ax = plt.subplots(figsize=(12, 10))\n",
        "sns.heatmap(cor_matrix,cmap=\"YlGnBu\", annot=True, fmt=\".2f\")\n",
        "plt.xticks(range(len(cor_matrix.columns)), cor_matrix.columns)\n",
        "plt.yticks(range(len(cor_matrix.columns)), cor_matrix.columns)\n",
        "ax.set_title('Dataframe Variables Heatmap')\n",
        "plt.show()"
      ],
      "metadata": {
        "colab": {
          "base_uri": "https://localhost:8080/",
          "height": 608
        },
        "id": "fsvnF_o5ZHAk",
        "outputId": "5caabb28-372c-49ce-dffb-ed188e6d11e0"
      },
      "execution_count": null,
      "outputs": [
        {
          "output_type": "display_data",
          "data": {
            "image/png": "[encoded data removed]",
            "text/plain": [
              "<Figure size 864x720 with 2 Axes>"
            ]
          },
          "metadata": {
            "needs_background": "light"
          }
        }
      ]
    },
    {
      "cell_type": "markdown",
      "source": [
        "there is a good correlation between:\n",
        "\n",
        "\n",
        "*   age - hipertension\n",
        "*   age - diabetes\n",
        "*   hipertension - diabetes\n",
        "\n"
      ],
      "metadata": {
        "id": "t6EfxEIfZM60"
      }
    },
    {
      "cell_type": "code",
      "source": [
        "#function of plotting\n",
        "def plotgraph(dfcolumn):\n",
        "  x = dfcolumn[show].value_counts().plot(kind = 'bar',color = 'green', label = 'showed')\n",
        "  y = dfcolumn[no_show].value_counts().plot(kind = 'bar',color='red', label = 'notshowed')\n",
        "  plt.legend()\n",
        "  plt.ylabel('frequency')"
      ],
      "metadata": {
        "id": "tv2YSodEwY4Y"
      },
      "execution_count": 84,
      "outputs": []
    },
    {
      "cell_type": "code",
      "source": [
        "#function of percentage of showing\n",
        "def percentage(var):\n",
        "  return(df_updated.groupby(var)['show'].mean()*100)\n"
      ],
      "metadata": {
        "id": "3XR_9L6H4TsQ"
      },
      "execution_count": 100,
      "outputs": []
    },
    {
      "cell_type": "markdown",
      "source": [
        "**Which timeofday has more show?**"
      ],
      "metadata": {
        "id": "WRnNF_--ZbZU"
      }
    },
    {
      "cell_type": "code",
      "source": [
        "plotgraph(df_updated.timeofday)\n",
        "plt.title('Time of day Appointment Attendance')\n",
        "plt.xlabel('time of day')\n"
      ],
      "metadata": {
        "colab": {
          "base_uri": "https://localhost:8080/",
          "height": 746
        },
        "id": "qpN-B0i1ZYWX",
        "outputId": "c4fd5bff-3fa5-41cf-c257-1b329a4acddf"
      },
      "execution_count": 50,
      "outputs": [
        {
          "output_type": "execute_result",
          "data": {
            "text/plain": [
              "Text(0.5, 0, 'time of day')"
            ]
          },
          "metadata": {},
          "execution_count": 50
        },
        {
          "output_type": "display_data",
          "data": {
            "image/png": "[encoded data removed]",
            "text/plain": [
              "<Figure size 720x720 with 1 Axes>"
            ]
          },
          "metadata": {
            "needs_background": "light"
          }
        }
      ]
    },
    {
      "cell_type": "markdown",
      "source": [
        "the graph above showed that the time most people showed up in their appointment is the morning while the percentage is nearly close of the 3 periods"
      ],
      "metadata": {
        "id": "BsZ_txfeLTTZ"
      }
    },
    {
      "cell_type": "code",
      "source": [
        "percentage(df_updated.timeofday)"
      ],
      "metadata": {
        "colab": {
          "base_uri": "https://localhost:8080/"
        },
        "id": "wODDIOVG6zX9",
        "outputId": "54f62b8b-1ff5-44b3-faad-0b5fffc0f23c"
      },
      "execution_count": 86,
      "outputs": [
        {
          "output_type": "execute_result",
          "data": {
            "text/plain": [
              "timeofday\n",
              "afternoon    77.329074\n",
              "evening      79.638510\n",
              "morning      81.144860\n",
              "Name: show, dtype: float64"
            ]
          },
          "metadata": {},
          "execution_count": 86
        }
      ]
    },
    {
      "cell_type": "markdown",
      "source": [
        "\n",
        "\n",
        "**Which age group attend more?**"
      ],
      "metadata": {
        "id": "0MipnqsqZimF"
      }
    },
    {
      "cell_type": "code",
      "source": [
        "plotgraph(df_updated.age_group)\n",
        "plt.title('Age Group Appointment Attendance')\n",
        "plt.xlabel('age intervals')\n"
      ],
      "metadata": {
        "colab": {
          "base_uri": "https://localhost:8080/",
          "height": 746
        },
        "id": "-TMmun3AZqt9",
        "outputId": "2711665f-0a5d-4c83-90a2-a99a7ca6af73"
      },
      "execution_count": 87,
      "outputs": [
        {
          "output_type": "execute_result",
          "data": {
            "text/plain": [
              "Text(0.5, 0, 'age intervals')"
            ]
          },
          "metadata": {},
          "execution_count": 87
        },
        {
          "output_type": "display_data",
          "data": {
            "image/png": "[encoded data removed]",
            "text/plain": [
              "<Figure size 720x720 with 1 Axes>"
            ]
          },
          "metadata": {
            "needs_background": "light"
          }
        }
      ]
    },
    {
      "cell_type": "markdown",
      "source": [
        "the graph above shows that the most showed up: people are those with age above 45 years old while their percentages was nearly close"
      ],
      "metadata": {
        "id": "Adsx2eRaLn-O"
      }
    },
    {
      "cell_type": "code",
      "source": [
        "percentage(df_updated.age_group)"
      ],
      "metadata": {
        "colab": {
          "base_uri": "https://localhost:8080/"
        },
        "id": "wF09EOCdGkM2",
        "outputId": "c05abe03-1d89-44a1-a8bc-69d9c25800fb"
      },
      "execution_count": 101,
      "outputs": [
        {
          "output_type": "execute_result",
          "data": {
            "text/plain": [
              "age_group\n",
              "Middle-age Adults (31-45)    78.176369\n",
              "Old-age Adults (above 45)    83.349101\n",
              "Young Adult (17-30)          75.219298\n",
              "child (0-16)                 78.349440\n",
              "Name: show, dtype: float64"
            ]
          },
          "metadata": {},
          "execution_count": 101
        }
      ]
    },
    {
      "cell_type": "markdown",
      "source": [
        "see the average age who showed up in their appointment and the average age who didn't show up"
      ],
      "metadata": {
        "id": "Na3mWS95Zy2s"
      }
    },
    {
      "cell_type": "code",
      "source": [
        "df_updated.age[show].mean()"
      ],
      "metadata": {
        "colab": {
          "base_uri": "https://localhost:8080/"
        },
        "id": "x4xZKYaQZ041",
        "outputId": "721a06ed-7cad-4f07-e013-92f14c23824a"
      },
      "execution_count": null,
      "outputs": [
        {
          "output_type": "execute_result",
          "data": {
            "text/plain": [
              "37.790504154999034"
            ]
          },
          "metadata": {},
          "execution_count": 35
        }
      ]
    },
    {
      "cell_type": "code",
      "source": [
        "df_updated.age[no_show].mean()"
      ],
      "metadata": {
        "colab": {
          "base_uri": "https://localhost:8080/"
        },
        "id": "uAjZAgFpZ3YS",
        "outputId": "353091c8-d0e1-4079-f1d3-7c61c28ce02d"
      },
      "execution_count": null,
      "outputs": [
        {
          "output_type": "execute_result",
          "data": {
            "text/plain": [
              "34.31766656212196"
            ]
          },
          "metadata": {},
          "execution_count": 36
        }
      ]
    },
    {
      "cell_type": "markdown",
      "source": [
        "the percentages are so close to each other, although it seems that the **old people** attend more"
      ],
      "metadata": {
        "id": "Pi-Z0d8qZ64N"
      }
    },
    {
      "cell_type": "markdown",
      "source": [
        "**Did sms received impact on the attendance?**"
      ],
      "metadata": {
        "id": "AT_9c3AAZ_S9"
      }
    },
    {
      "cell_type": "code",
      "source": [
        "plotgraph(df_updated.sms_received)\n",
        "plt.title('SMS received Appointment Attendance')\n",
        "plt.xlabel('received sms where (0:No, 1:Yes) ')\n"
      ],
      "metadata": {
        "colab": {
          "base_uri": "https://localhost:8080/",
          "height": 746
        },
        "id": "KeAWeKgCZ7xN",
        "outputId": "29a3ec72-33e5-4834-d92f-5058fd75c8aa"
      },
      "execution_count": 88,
      "outputs": [
        {
          "output_type": "execute_result",
          "data": {
            "text/plain": [
              "Text(0.5, 0, 'received sms where (0:No, 1:Yes) ')"
            ]
          },
          "metadata": {},
          "execution_count": 88
        },
        {
          "output_type": "display_data",
          "data": {
            "image/png": "[encoded data removed]",
            "text/plain": [
              "<Figure size 720x720 with 1 Axes>"
            ]
          },
          "metadata": {
            "needs_background": "light"
          }
        }
      ]
    },
    {
      "cell_type": "markdown",
      "source": [
        "the graph above shows that the most showed up: people are who didnt receive the sms while their percentages was nearly close"
      ],
      "metadata": {
        "id": "5yMxZqMSL6-_"
      }
    },
    {
      "cell_type": "code",
      "source": [
        "percentage(df_updated.sms_received)"
      ],
      "metadata": {
        "colab": {
          "base_uri": "https://localhost:8080/"
        },
        "id": "udKuoysqHDqW",
        "outputId": "db00ed33-20d7-4f2e-eed4-2f2652b9599b"
      },
      "execution_count": 102,
      "outputs": [
        {
          "output_type": "execute_result",
          "data": {
            "text/plain": [
              "sms_received\n",
              "0    83.296466\n",
              "1    72.425455\n",
              "Name: show, dtype: float64"
            ]
          },
          "metadata": {},
          "execution_count": 102
        }
      ]
    },
    {
      "cell_type": "markdown",
      "source": [
        "**Did Scholarship impact on the attendance?**"
      ],
      "metadata": {
        "id": "bkOEMW6RaPGV"
      }
    },
    {
      "cell_type": "code",
      "source": [
        "plotgraph(df_updated.scholarship)\n",
        "plt.title('Scholarship Appointment Attendance')\n",
        "plt.xlabel('Scholarship(0:Not-received Sms, 1:received Sms)')\n"
      ],
      "metadata": {
        "colab": {
          "base_uri": "https://localhost:8080/",
          "height": 746
        },
        "id": "wP-jpAeLaoGF",
        "outputId": "a4ac3653-1424-49d5-ad11-71eeed87df6b"
      },
      "execution_count": 89,
      "outputs": [
        {
          "output_type": "execute_result",
          "data": {
            "text/plain": [
              "Text(0.5, 0, 'Scholarship(0:Not-received Sms, 1:received Sms)')"
            ]
          },
          "metadata": {},
          "execution_count": 89
        },
        {
          "output_type": "display_data",
          "data": {
            "image/png": "[encoded data removed]",
            "text/plain": [
              "<Figure size 720x720 with 1 Axes>"
            ]
          },
          "metadata": {
            "needs_background": "light"
          }
        }
      ]
    },
    {
      "cell_type": "markdown",
      "source": [
        "the graph above shows that the most showed up: people are those who didn't have scholarship although their percentages was nearly close"
      ],
      "metadata": {
        "id": "60kp8q-FMFl7"
      }
    },
    {
      "cell_type": "code",
      "source": [
        "percentage(df_updated.scholarship)"
      ],
      "metadata": {
        "colab": {
          "base_uri": "https://localhost:8080/"
        },
        "id": "sg0OwueBHIk1",
        "outputId": "c51e329d-8660-402e-c252-368dc0cb8c71"
      },
      "execution_count": 103,
      "outputs": [
        {
          "output_type": "execute_result",
          "data": {
            "text/plain": [
              "scholarship\n",
              "0    80.192645\n",
              "1    76.263696\n",
              "Name: show, dtype: float64"
            ]
          },
          "metadata": {},
          "execution_count": 103
        }
      ]
    },
    {
      "cell_type": "markdown",
      "source": [
        "**Did Hipertension impact on the attendance?**"
      ],
      "metadata": {
        "id": "gr33EMjeaTz8"
      }
    },
    {
      "cell_type": "code",
      "source": [
        "plotgraph(df_updated.hipertension)\n",
        "plt.title('Hipertension Appointment Attendance')\n",
        "plt.xlabel('Hipertension(0:Not-received Sms, 1:received Sms)')\n"
      ],
      "metadata": {
        "colab": {
          "base_uri": "https://localhost:8080/",
          "height": 746
        },
        "id": "DmiGhIiravvV",
        "outputId": "0a956797-6666-4f54-b42a-26085949ac71"
      },
      "execution_count": 90,
      "outputs": [
        {
          "output_type": "execute_result",
          "data": {
            "text/plain": [
              "Text(0.5, 0, 'Hipertension(0:Not-received Sms, 1:received Sms)')"
            ]
          },
          "metadata": {},
          "execution_count": 90
        },
        {
          "output_type": "display_data",
          "data": {
            "image/png": "[encoded data removed]",
            "text/plain": [
              "<Figure size 720x720 with 1 Axes>"
            ]
          },
          "metadata": {
            "needs_background": "light"
          }
        }
      ]
    },
    {
      "cell_type": "markdown",
      "source": [
        "the graph above shows that the most showed up: people are those who have hipertension although their percentages was nearly close"
      ],
      "metadata": {
        "id": "V-8Y8CCoMQp4"
      }
    },
    {
      "cell_type": "code",
      "source": [
        "percentage(df_updated.hipertension)"
      ],
      "metadata": {
        "colab": {
          "base_uri": "https://localhost:8080/"
        },
        "id": "lqSDJ6LkHPeN",
        "outputId": "3819533c-b4a5-40a2-f788-67b4b17ed214"
      },
      "execution_count": 104,
      "outputs": [
        {
          "output_type": "execute_result",
          "data": {
            "text/plain": [
              "hipertension\n",
              "0    79.096083\n",
              "1    82.698041\n",
              "Name: show, dtype: float64"
            ]
          },
          "metadata": {},
          "execution_count": 104
        }
      ]
    },
    {
      "cell_type": "markdown",
      "source": [
        "**Did Alcoholism impact on the attendance?**"
      ],
      "metadata": {
        "id": "xi7dZoq-aT7-"
      }
    },
    {
      "cell_type": "code",
      "source": [
        "plotgraph(df_updated.alcoholism)\n",
        "plt.title('Alcoholism Appointment Attendance')\n",
        "plt.xlabel('Alcoholism (0:Not-received Sms, 1:received Sms)')\n"
      ],
      "metadata": {
        "colab": {
          "base_uri": "https://localhost:8080/",
          "height": 746
        },
        "id": "qm2lL-Kwa5wX",
        "outputId": "43bfa845-3153-46ec-db38-6922d0218ac5"
      },
      "execution_count": 91,
      "outputs": [
        {
          "output_type": "execute_result",
          "data": {
            "text/plain": [
              "Text(0.5, 0, 'Alcoholism (0:Not-received Sms, 1:received Sms)')"
            ]
          },
          "metadata": {},
          "execution_count": 91
        },
        {
          "output_type": "display_data",
          "data": {
            "image/png": "[encoded data removed]",
            "text/plain": [
              "<Figure size 720x720 with 1 Axes>"
            ]
          },
          "metadata": {
            "needs_background": "light"
          }
        }
      ]
    },
    {
      "cell_type": "markdown",
      "source": [
        "the graph above shows that the most showed up: people are those who have alcoholism although their percentages was nearly close"
      ],
      "metadata": {
        "id": "nW0V7GZqMW13"
      }
    },
    {
      "cell_type": "code",
      "source": [
        "percentage(df_updated.alcoholism)"
      ],
      "metadata": {
        "colab": {
          "base_uri": "https://localhost:8080/"
        },
        "id": "Zt58x6S3HUey",
        "outputId": "a3baa0f2-7b4b-4287-c883-f9cca811810a"
      },
      "execution_count": 105,
      "outputs": [
        {
          "output_type": "execute_result",
          "data": {
            "text/plain": [
              "alcoholism\n",
              "0    79.805162\n",
              "1    79.851190\n",
              "Name: show, dtype: float64"
            ]
          },
          "metadata": {},
          "execution_count": 105
        }
      ]
    },
    {
      "cell_type": "markdown",
      "source": [
        "**Did Diabetes impact on the attendance?**"
      ],
      "metadata": {
        "id": "cWjsRspeaUDj"
      }
    },
    {
      "cell_type": "code",
      "source": [
        "plotgraph(df_updated.diabetes)\n",
        "plt.title('diabetes Appointment Attendance')\n",
        "plt.xlabel('Diabetes(0:Not-received Sms, 1:received Sms)')\n"
      ],
      "metadata": {
        "colab": {
          "base_uri": "https://localhost:8080/",
          "height": 746
        },
        "id": "Oxf90ZQBa0Al",
        "outputId": "dfc8be7f-b230-41a3-ac89-19a1765c8933"
      },
      "execution_count": 92,
      "outputs": [
        {
          "output_type": "execute_result",
          "data": {
            "text/plain": [
              "Text(0.5, 0, 'Diabetes(0:Not-received Sms, 1:received Sms)')"
            ]
          },
          "metadata": {},
          "execution_count": 92
        },
        {
          "output_type": "display_data",
          "data": {
            "image/png": "[encoded data removed]",
            "text/plain": [
              "<Figure size 720x720 with 1 Axes>"
            ]
          },
          "metadata": {
            "needs_background": "light"
          }
        }
      ]
    },
    {
      "cell_type": "markdown",
      "source": [
        "the graph above shows that the most showed up: people are those who have Diabetes although their percentages was nearly close"
      ],
      "metadata": {
        "id": "RiyrFFC6MZzq"
      }
    },
    {
      "cell_type": "code",
      "source": [
        "percentage(df_updated.diabetes)"
      ],
      "metadata": {
        "colab": {
          "base_uri": "https://localhost:8080/"
        },
        "id": "lauKE0qzHYot",
        "outputId": "745f3dcc-d929-463c-e408-3f91af72dddb"
      },
      "execution_count": 106,
      "outputs": [
        {
          "output_type": "execute_result",
          "data": {
            "text/plain": [
              "diabetes\n",
              "0    79.636977\n",
              "1    81.996727\n",
              "Name: show, dtype: float64"
            ]
          },
          "metadata": {},
          "execution_count": 106
        }
      ]
    },
    {
      "cell_type": "markdown",
      "source": [
        "**Did Handcap impact on the attendance?**"
      ],
      "metadata": {
        "id": "8lkq0xviaUQk"
      }
    },
    {
      "cell_type": "code",
      "source": [
        "plotgraph(df_updated.handcap)\n",
        "plt.title('Handcap Appointment Attendance')\n",
        "plt.xlabel('Handcap(0:Not-received Sms, 1:received Sms)')"
      ],
      "metadata": {
        "colab": {
          "base_uri": "https://localhost:8080/",
          "height": 746
        },
        "id": "UWgzaHzrbE0C",
        "outputId": "0c4ab3c9-b513-447f-f017-8f9bde1b1223"
      },
      "execution_count": 93,
      "outputs": [
        {
          "output_type": "execute_result",
          "data": {
            "text/plain": [
              "Text(0.5, 0, 'Handcap(0:Not-received Sms, 1:received Sms)')"
            ]
          },
          "metadata": {},
          "execution_count": 93
        },
        {
          "output_type": "display_data",
          "data": {
            "image/png": "[encoded data removed]",
            "text/plain": [
              "<Figure size 720x720 with 1 Axes>"
            ]
          },
          "metadata": {
            "needs_background": "light"
          }
        }
      ]
    },
    {
      "cell_type": "markdown",
      "source": [
        "the graph above shows that the most showed up: people are those who have handcap although their percentages was nearly close"
      ],
      "metadata": {
        "id": "GbS5CIZkMfEv"
      }
    },
    {
      "cell_type": "code",
      "source": [
        "percentage(df_updated.handcap)"
      ],
      "metadata": {
        "colab": {
          "base_uri": "https://localhost:8080/"
        },
        "id": "luRIsJtBHb8Y",
        "outputId": "ac9914a5-61b4-4275-e373-07f2e2dda8bd"
      },
      "execution_count": 107,
      "outputs": [
        {
          "output_type": "execute_result",
          "data": {
            "text/plain": [
              "handcap\n",
              "0    79.764510\n",
              "1    82.076396\n",
              "2    79.781421\n",
              "3    76.923077\n",
              "4    66.666667\n",
              "Name: show, dtype: float64"
            ]
          },
          "metadata": {},
          "execution_count": 107
        }
      ]
    },
    {
      "cell_type": "markdown",
      "source": [
        "**Did Gender impact on the attendance?**"
      ],
      "metadata": {
        "id": "un8axHZcakwu"
      }
    },
    {
      "cell_type": "code",
      "source": [
        "plotgraph(df_updated.gender)\n",
        "plt.title('gender Appointment Attendance')\n",
        "plt.xlabel('gender(0:Not-received Sms, 1:received Sms)')\n"
      ],
      "metadata": {
        "colab": {
          "base_uri": "https://localhost:8080/",
          "height": 746
        },
        "id": "eA-ym1VcakJv",
        "outputId": "609f4ecd-97a6-4c73-9028-0aa5c0ebda7d"
      },
      "execution_count": 94,
      "outputs": [
        {
          "output_type": "execute_result",
          "data": {
            "text/plain": [
              "Text(0.5, 0, 'gender(0:Not-received Sms, 1:received Sms)')"
            ]
          },
          "metadata": {},
          "execution_count": 94
        },
        {
          "output_type": "display_data",
          "data": {
            "image/png": "[encoded data removed]",
            "text/plain": [
              "<Figure size 720x720 with 1 Axes>"
            ]
          },
          "metadata": {
            "needs_background": "light"
          }
        }
      ]
    },
    {
      "cell_type": "markdown",
      "source": [
        "the graph above shows that the most showed up: Men although the percentages was nearly close"
      ],
      "metadata": {
        "id": "wlIOzVyPMhVP"
      }
    },
    {
      "cell_type": "code",
      "source": [
        "percentage(df_updated.gender)"
      ],
      "metadata": {
        "colab": {
          "base_uri": "https://localhost:8080/"
        },
        "id": "Ajx8bd4iHgOF",
        "outputId": "d52887c7-b56e-45af-c2b2-f150bd2fc0cd"
      },
      "execution_count": 108,
      "outputs": [
        {
          "output_type": "execute_result",
          "data": {
            "text/plain": [
              "gender\n",
              "F    79.685129\n",
              "M    80.032052\n",
              "Name: show, dtype: float64"
            ]
          },
          "metadata": {},
          "execution_count": 108
        }
      ]
    },
    {
      "cell_type": "markdown",
      "source": [
        "**Limitations:**\n",
        "\n",
        "\n",
        "*   there was some illogical data such as patients age was -1\n",
        "*   missing features that could be more useful such as if the patient was employed or not, or the patient has a serious medical issue or not\n",
        "\n"
      ],
      "metadata": {
        "id": "rTd4Rt__Ou9k"
      }
    },
    {
      "cell_type": "markdown",
      "source": [
        "**Conclusions**"
      ],
      "metadata": {
        "id": "WCSh3_H2bYDt"
      }
    },
    {
      "cell_type": "markdown",
      "source": [
        "all graphs above have nearly close percentages while it seems that those with (diabetes,hipertension, alcoholism, handcap) who didn't receive sms go to the appointment and mostly in the morning specially the old people and the scholarship didn't have an actual impact on the attendance"
      ],
      "metadata": {
        "id": "nn92pwDabR5u"
      }
    },
    {
      "cell_type": "markdown",
      "source": [
        "*   the Age is the most important factor which decided if a patient will show up or not where the avg of age who will show up is 37.790504154999034 while the average age of who won't show up is 34.31766656212196\n",
        "*   a 20.2% didn't show up while 79.8% showed up in their appointment\n",
        "\n",
        "\n",
        "*   the feature as gender, hipertension isn't a factor to decide whether the patient will come or not\n",
        "\n",
        "\n",
        "\n",
        "\n",
        "\n",
        "*   people with hipertension, alcoholism, diabetes, handcap showed at their scheduled appointment\n",
        "*   people go more often in the morning\n",
        "*   old people above 45 showed more for their scheduled appointment\n",
        "*  people who didnt receive sms showed more for their scheduled appointment\n",
        "*   Male showed up in their appointment\n",
        "\n"
      ],
      "metadata": {
        "id": "ZMGLo9-RbS7S"
      }
    },
    {
      "cell_type": "markdown",
      "source": [
        "summary:\n",
        "the most showed up in their appointment:\n",
        "old people above 45\n",
        "in the morning \n",
        "who has diabetes, alcoholism, hipertension,handcap\n",
        "no sms received\n"
      ],
      "metadata": {
        "id": "vPXMWGTjbW7H"
      }
    }
  ]
}